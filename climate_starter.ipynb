{
 "cells": [
  {
   "cell_type": "markdown",
   "metadata": {},
   "source": [
    "# Surfs UP!\n",
    "\n",
    "The main goal in this analysis is to determine which are the best day to go on vactions in Hawaii. To do so it is studies how does rain amount and temperature changes over the time.\n"
   ]
  },
  {
   "cell_type": "code",
   "execution_count": 1,
   "metadata": {},
   "outputs": [],
   "source": [
    "%matplotlib inline\n",
    "from matplotlib import style\n",
    "style.use('fivethirtyeight')\n",
    "import matplotlib.pyplot as plt"
   ]
  },
  {
   "cell_type": "code",
   "execution_count": 2,
   "metadata": {},
   "outputs": [],
   "source": [
    "import numpy as np\n",
    "import pandas as pd"
   ]
  },
  {
   "cell_type": "code",
   "execution_count": 3,
   "metadata": {},
   "outputs": [],
   "source": [
    "import datetime "
   ]
  },
  {
   "cell_type": "markdown",
   "metadata": {},
   "source": [
    "# Reflect Tables into SQLAlchemy ORM"
   ]
  },
  {
   "cell_type": "code",
   "execution_count": 4,
   "metadata": {},
   "outputs": [],
   "source": [
    "# Python SQL toolkit and Object Relational Mapper\n",
    "import sqlalchemy\n",
    "from sqlalchemy.ext.automap import automap_base\n",
    "from sqlalchemy.orm import Session\n",
    "from sqlalchemy import create_engine, inspect, func"
   ]
  },
  {
   "cell_type": "code",
   "execution_count": 5,
   "metadata": {},
   "outputs": [],
   "source": [
    "engine = create_engine(\"sqlite:///Resources/hawaii.sqlite\")"
   ]
  },
  {
   "cell_type": "code",
   "execution_count": 6,
   "metadata": {},
   "outputs": [
    {
     "data": {
      "text/plain": [
       "['measurement', 'station']"
      ]
     },
     "execution_count": 6,
     "metadata": {},
     "output_type": "execute_result"
    }
   ],
   "source": [
    "#explore contents in sql hawaii and print table names\n",
    "inspector = inspect(engine)\n",
    "inspector.get_table_names()"
   ]
  },
  {
   "cell_type": "code",
   "execution_count": 7,
   "metadata": {},
   "outputs": [
    {
     "name": "stdout",
     "output_type": "stream",
     "text": [
      "id INTEGER\n",
      "station TEXT\n",
      "date TEXT\n",
      "prcp FLOAT\n",
      "tobs FLOAT\n"
     ]
    }
   ],
   "source": [
    "#Using the inspector lets print the column names in each table\n",
    "columns_mea =inspector.get_columns('measurement')\n",
    "for col in columns_mea:\n",
    "    print(col['name'], col[\"type\"])"
   ]
  },
  {
   "cell_type": "code",
   "execution_count": 8,
   "metadata": {},
   "outputs": [
    {
     "name": "stdout",
     "output_type": "stream",
     "text": [
      "id INTEGER\n",
      "station TEXT\n",
      "name TEXT\n",
      "latitude FLOAT\n",
      "longitude FLOAT\n",
      "elevation FLOAT\n"
     ]
    }
   ],
   "source": [
    "columns_sta = inspector.get_columns('station')\n",
    "for col in columns_sta:\n",
    "    print(col['name'], col[\"type\"])"
   ]
  },
  {
   "cell_type": "code",
   "execution_count": 9,
   "metadata": {},
   "outputs": [
    {
     "data": {
      "text/plain": [
       "[(1, 'USC00519397', '2010-01-01', 0.08, 65.0),\n",
       " (2, 'USC00519397', '2010-01-02', 0.0, 63.0),\n",
       " (3, 'USC00519397', '2010-01-03', 0.0, 74.0),\n",
       " (4, 'USC00519397', '2010-01-04', 0.0, 76.0),\n",
       " (5, 'USC00519397', '2010-01-06', None, 73.0)]"
      ]
     },
     "execution_count": 9,
     "metadata": {},
     "output_type": "execute_result"
    }
   ],
   "source": [
    "#Lets display the first rows for each table\n",
    "sql_mea = \"SELECT * FROM measurement LIMIT 5\"\n",
    "engine.execute(sql_mea).fetchall()"
   ]
  },
  {
   "cell_type": "code",
   "execution_count": 10,
   "metadata": {},
   "outputs": [
    {
     "data": {
      "text/plain": [
       "[(1, 'USC00519397', 'WAIKIKI 717.2, HI US', 21.2716, -157.8168, 3.0),\n",
       " (2, 'USC00513117', 'KANEOHE 838.1, HI US', 21.4234, -157.8015, 14.6),\n",
       " (3, 'USC00514830', 'KUALOA RANCH HEADQUARTERS 886.9, HI US', 21.5213, -157.8374, 7.0),\n",
       " (4, 'USC00517948', 'PEARL CITY, HI US', 21.3934, -157.9751, 11.9),\n",
       " (5, 'USC00518838', 'UPPER WAHIAWA 874.3, HI US', 21.4992, -158.0111, 306.6)]"
      ]
     },
     "execution_count": 10,
     "metadata": {},
     "output_type": "execute_result"
    }
   ],
   "source": [
    "sql_sta = \"SELECT * FROM station LIMIT 5\"\n",
    "engine.execute(sql_sta).fetchall()"
   ]
  },
  {
   "cell_type": "code",
   "execution_count": 11,
   "metadata": {},
   "outputs": [],
   "source": [
    "# reflect an existing database into a new model\n",
    "Base = automap_base()\n",
    "Base.prepare(engine, reflect=True)\n",
    "\n",
    "# reflect the tables\n",
    "Station = Base.classes.station\n",
    "Measurements = Base.classes.measurement"
   ]
  },
  {
   "cell_type": "code",
   "execution_count": 12,
   "metadata": {},
   "outputs": [
    {
     "data": {
      "text/plain": [
       "['measurement', 'station']"
      ]
     },
     "execution_count": 12,
     "metadata": {},
     "output_type": "execute_result"
    }
   ],
   "source": [
    "# We can view all of the classes that automap found\n",
    "Station.classes.keys()"
   ]
  },
  {
   "cell_type": "code",
   "execution_count": 13,
   "metadata": {},
   "outputs": [],
   "source": [
    "# Create our session (link) from Python to the DB\n",
    "session = Session(engine)"
   ]
  },
  {
   "cell_type": "markdown",
   "metadata": {},
   "source": [
    "# Exploratory Climate Analysis\n",
    "\n",
    "In this sectio, first it is obtained the lasst date of observation ordering in descendant way de query. Then, since the date is given as a string it is transformed to a date time object. Once the date time object is obtained, the date of an year early is retrieved through the timedelta function. By using this two dates the Measurement data is retrieved again and the precipitation is analyzed."
   ]
  },
  {
   "cell_type": "code",
   "execution_count": 14,
   "metadata": {},
   "outputs": [
    {
     "data": {
      "text/plain": [
       "('2017-08-23')"
      ]
     },
     "execution_count": 14,
     "metadata": {},
     "output_type": "execute_result"
    }
   ],
   "source": [
    "# Design a query to retrieve the last 12 months of precipitation data and plot the results\n",
    "last_dat_strg = session.query(Measurements.date).order_by(Measurements.date.desc()).first()\n",
    "last_dat_strg"
   ]
  },
  {
   "cell_type": "code",
   "execution_count": 15,
   "metadata": {},
   "outputs": [
    {
     "data": {
      "text/plain": [
       "'2017-08-23'"
      ]
     },
     "execution_count": 15,
     "metadata": {},
     "output_type": "execute_result"
    }
   ],
   "source": [
    "#Extract date  from session query\n",
    "time = last_dat_strg[0]\n",
    "time"
   ]
  },
  {
   "cell_type": "code",
   "execution_count": 17,
   "metadata": {},
   "outputs": [
    {
     "data": {
      "text/plain": [
       "datetime.date(2017, 8, 23)"
      ]
     },
     "execution_count": 17,
     "metadata": {},
     "output_type": "execute_result"
    }
   ],
   "source": [
    "#transform it to a time object\n",
    "last_date = datetime.datetime.strptime(time, '%Y-%m-%d').date()\n",
    "last_date"
   ]
  },
  {
   "cell_type": "code",
   "execution_count": 18,
   "metadata": {},
   "outputs": [
    {
     "data": {
      "text/plain": [
       "datetime.date(2016, 8, 23)"
      ]
     },
     "execution_count": 18,
     "metadata": {},
     "output_type": "execute_result"
    }
   ],
   "source": [
    "#Lest substract a year (365 days)\n",
    "from datetime import timedelta\n",
    "year_ago = last_date - timedelta(365)\n",
    "year_ago"
   ]
  },
  {
   "cell_type": "code",
   "execution_count": 19,
   "metadata": {},
   "outputs": [
    {
     "data": {
      "text/plain": [
       "'2016-08-23'"
      ]
     },
     "execution_count": 19,
     "metadata": {},
     "output_type": "execute_result"
    }
   ],
   "source": [
    "#Convert to string\n",
    "year_ago_str = year_ago.strftime('%Y-%m-%d')\n",
    "year_ago_str"
   ]
  },
  {
   "cell_type": "code",
   "execution_count": 20,
   "metadata": {},
   "outputs": [
    {
     "data": {
      "text/plain": [
       "('2016-08-23', 0.0)"
      ]
     },
     "execution_count": 20,
     "metadata": {},
     "output_type": "execute_result"
    }
   ],
   "source": [
    "# Perform a query to retrieve the data and precipitation scores\n",
    "precipitation_q = session.query(Measurements.date, Measurements.prcp).filter(Measurements.date >= year_ago_str).all()\n",
    "precipitation_q[0]"
   ]
  },
  {
   "cell_type": "code",
   "execution_count": 31,
   "metadata": {},
   "outputs": [
    {
     "data": {
      "text/html": [
       "<div>\n",
       "<style scoped>\n",
       "    .dataframe tbody tr th:only-of-type {\n",
       "        vertical-align: middle;\n",
       "    }\n",
       "\n",
       "    .dataframe tbody tr th {\n",
       "        vertical-align: top;\n",
       "    }\n",
       "\n",
       "    .dataframe thead th {\n",
       "        text-align: right;\n",
       "    }\n",
       "</style>\n",
       "<table border=\"1\" class=\"dataframe\">\n",
       "  <thead>\n",
       "    <tr style=\"text-align: right;\">\n",
       "      <th></th>\n",
       "      <th>Date</th>\n",
       "      <th>Precipitation</th>\n",
       "    </tr>\n",
       "  </thead>\n",
       "  <tbody>\n",
       "    <tr>\n",
       "      <td>0</td>\n",
       "      <td>2016-08-23</td>\n",
       "      <td>0.00</td>\n",
       "    </tr>\n",
       "    <tr>\n",
       "      <td>1</td>\n",
       "      <td>2016-08-24</td>\n",
       "      <td>0.08</td>\n",
       "    </tr>\n",
       "    <tr>\n",
       "      <td>2</td>\n",
       "      <td>2016-08-25</td>\n",
       "      <td>0.08</td>\n",
       "    </tr>\n",
       "    <tr>\n",
       "      <td>3</td>\n",
       "      <td>2016-08-26</td>\n",
       "      <td>0.00</td>\n",
       "    </tr>\n",
       "    <tr>\n",
       "      <td>4</td>\n",
       "      <td>2016-08-27</td>\n",
       "      <td>0.00</td>\n",
       "    </tr>\n",
       "  </tbody>\n",
       "</table>\n",
       "</div>"
      ],
      "text/plain": [
       "         Date  Precipitation\n",
       "0  2016-08-23           0.00\n",
       "1  2016-08-24           0.08\n",
       "2  2016-08-25           0.08\n",
       "3  2016-08-26           0.00\n",
       "4  2016-08-27           0.00"
      ]
     },
     "execution_count": 31,
     "metadata": {},
     "output_type": "execute_result"
    }
   ],
   "source": [
    "# Save the query results as a Pandas DataFrame and set the index to the date column\n",
    "precipitation_df = pd.DataFrame(precipitation_q, columns=[\"Date\", \"Precipitation\"])\n",
    "precipitation_df.head()\n"
   ]
  },
  {
   "cell_type": "code",
   "execution_count": 32,
   "metadata": {},
   "outputs": [],
   "source": [
    "#Lets transform dates as an date time object\n",
    "#precipitation_df['Date'] = pd.to_datetime(precipitation_df['Date'], format='%Y-%m-%d') \n",
    "#precipitation_df"
   ]
  },
  {
   "cell_type": "code",
   "execution_count": 33,
   "metadata": {},
   "outputs": [
    {
     "data": {
      "text/html": [
       "<div>\n",
       "<style scoped>\n",
       "    .dataframe tbody tr th:only-of-type {\n",
       "        vertical-align: middle;\n",
       "    }\n",
       "\n",
       "    .dataframe tbody tr th {\n",
       "        vertical-align: top;\n",
       "    }\n",
       "\n",
       "    .dataframe thead th {\n",
       "        text-align: right;\n",
       "    }\n",
       "</style>\n",
       "<table border=\"1\" class=\"dataframe\">\n",
       "  <thead>\n",
       "    <tr style=\"text-align: right;\">\n",
       "      <th></th>\n",
       "      <th>Precipitation</th>\n",
       "    </tr>\n",
       "    <tr>\n",
       "      <th>Date</th>\n",
       "      <th></th>\n",
       "    </tr>\n",
       "  </thead>\n",
       "  <tbody>\n",
       "    <tr>\n",
       "      <td>2016-08-23</td>\n",
       "      <td>0.00</td>\n",
       "    </tr>\n",
       "    <tr>\n",
       "      <td>2016-08-24</td>\n",
       "      <td>0.08</td>\n",
       "    </tr>\n",
       "    <tr>\n",
       "      <td>2016-08-25</td>\n",
       "      <td>0.08</td>\n",
       "    </tr>\n",
       "    <tr>\n",
       "      <td>2016-08-26</td>\n",
       "      <td>0.00</td>\n",
       "    </tr>\n",
       "    <tr>\n",
       "      <td>2016-08-27</td>\n",
       "      <td>0.00</td>\n",
       "    </tr>\n",
       "  </tbody>\n",
       "</table>\n",
       "</div>"
      ],
      "text/plain": [
       "            Precipitation\n",
       "Date                     \n",
       "2016-08-23           0.00\n",
       "2016-08-24           0.08\n",
       "2016-08-25           0.08\n",
       "2016-08-26           0.00\n",
       "2016-08-27           0.00"
      ]
     },
     "execution_count": 33,
     "metadata": {},
     "output_type": "execute_result"
    }
   ],
   "source": [
    "precipitation_df.set_index(\"Date\", inplace=True)\n",
    "precipitation_df.head()\n"
   ]
  },
  {
   "cell_type": "code",
   "execution_count": 34,
   "metadata": {},
   "outputs": [
    {
     "data": {
      "text/html": [
       "<div>\n",
       "<style scoped>\n",
       "    .dataframe tbody tr th:only-of-type {\n",
       "        vertical-align: middle;\n",
       "    }\n",
       "\n",
       "    .dataframe tbody tr th {\n",
       "        vertical-align: top;\n",
       "    }\n",
       "\n",
       "    .dataframe thead th {\n",
       "        text-align: right;\n",
       "    }\n",
       "</style>\n",
       "<table border=\"1\" class=\"dataframe\">\n",
       "  <thead>\n",
       "    <tr style=\"text-align: right;\">\n",
       "      <th></th>\n",
       "      <th>Precipitation</th>\n",
       "    </tr>\n",
       "    <tr>\n",
       "      <th>Date</th>\n",
       "      <th></th>\n",
       "    </tr>\n",
       "  </thead>\n",
       "  <tbody>\n",
       "    <tr>\n",
       "      <td>2016-08-23</td>\n",
       "      <td>0.00</td>\n",
       "    </tr>\n",
       "    <tr>\n",
       "      <td>2016-08-23</td>\n",
       "      <td>NaN</td>\n",
       "    </tr>\n",
       "    <tr>\n",
       "      <td>2016-08-23</td>\n",
       "      <td>1.79</td>\n",
       "    </tr>\n",
       "    <tr>\n",
       "      <td>2016-08-23</td>\n",
       "      <td>0.05</td>\n",
       "    </tr>\n",
       "    <tr>\n",
       "      <td>2016-08-23</td>\n",
       "      <td>0.15</td>\n",
       "    </tr>\n",
       "  </tbody>\n",
       "</table>\n",
       "</div>"
      ],
      "text/plain": [
       "            Precipitation\n",
       "Date                     \n",
       "2016-08-23           0.00\n",
       "2016-08-23            NaN\n",
       "2016-08-23           1.79\n",
       "2016-08-23           0.05\n",
       "2016-08-23           0.15"
      ]
     },
     "execution_count": 34,
     "metadata": {},
     "output_type": "execute_result"
    }
   ],
   "source": [
    "# Sort the dataframe by date\n",
    "precipitation_df.sort_index(inplace=True)\n",
    "precipitation_df.head()"
   ]
  },
  {
   "cell_type": "code",
   "execution_count": 46,
   "metadata": {},
   "outputs": [
    {
     "data": {
      "text/plain": [
       "<matplotlib.axes._subplots.AxesSubplot at 0x1df7af21048>"
      ]
     },
     "execution_count": 46,
     "metadata": {},
     "output_type": "execute_result"
    },
    {
     "data": {
      "image/png": "[encoded data removed]",
      "text/plain": [
       "<Figure size 432x288 with 1 Axes>"
      ]
     },
     "metadata": {
      "needs_background": "light"
     },
     "output_type": "display_data"
    }
   ],
   "source": [
    "# Use Pandas Plotting with Matplotlib to plot the data\n",
    "precipitation_df.plot.bar()"
   ]
  },
  {
   "cell_type": "code",
   "execution_count": 45,
   "metadata": {},
   "outputs": [
    {
     "data": {
      "text/plain": [
       "(array([-20., -10.,   0.,  10.,  20.,  30.,  40.,  50.,  60.,  70.,  80.,\n",
       "         90., 100., 110., 120., 130., 140., 150., 160., 170., 180., 190.,\n",
       "        200., 210., 220., 230., 240., 250., 260., 270., 280., 290., 300.,\n",
       "        310., 320., 330., 340., 350., 360., 370., 380., 390.]),\n",
       " <a list of 42 Text xticklabel objects>)"
      ]
     },
     "execution_count": 45,
     "metadata": {},
     "output_type": "execute_result"
    },
    {
     "data": {
      "image/png": "[encoded data removed]",
      "text/plain": [
       "<Figure size 432x288 with 1 Axes>"
      ]
     },
     "metadata": {
      "needs_background": "light"
     },
     "output_type": "display_data"
    }
   ],
   "source": [
    "#This looks bad, so another approach is used\n",
    "import matplotlib.ticker as ticker\n",
    "fig, ax3 = plt.subplots()\n",
    "ax3.bar(precipitation_df.index, precipitation_df.Precipitation, width=0.72)\n",
    "ax3.xaxis.set_major_locator(ticker.MultipleLocator(10))\n",
    "ax3.xaxis.set_minor_locator(ticker.MultipleLocator(2.5))\n",
    "fig.suptitle(\"Precipitation in Hawaii over a year\")\n",
    "plt.xticks(rotation=90)\n"
   ]
  },
  {
   "cell_type": "code",
   "execution_count": 44,
   "metadata": {},
   "outputs": [
    {
     "data": {
      "text/html": [
       "<div>\n",
       "<style scoped>\n",
       "    .dataframe tbody tr th:only-of-type {\n",
       "        vertical-align: middle;\n",
       "    }\n",
       "\n",
       "    .dataframe tbody tr th {\n",
       "        vertical-align: top;\n",
       "    }\n",
       "\n",
       "    .dataframe thead th {\n",
       "        text-align: right;\n",
       "    }\n",
       "</style>\n",
       "<table border=\"1\" class=\"dataframe\">\n",
       "  <thead>\n",
       "    <tr style=\"text-align: right;\">\n",
       "      <th></th>\n",
       "      <th>Precipitation</th>\n",
       "    </tr>\n",
       "  </thead>\n",
       "  <tbody>\n",
       "    <tr>\n",
       "      <td>count</td>\n",
       "      <td>2021.000000</td>\n",
       "    </tr>\n",
       "    <tr>\n",
       "      <td>mean</td>\n",
       "      <td>0.177279</td>\n",
       "    </tr>\n",
       "    <tr>\n",
       "      <td>std</td>\n",
       "      <td>0.461190</td>\n",
       "    </tr>\n",
       "    <tr>\n",
       "      <td>min</td>\n",
       "      <td>0.000000</td>\n",
       "    </tr>\n",
       "    <tr>\n",
       "      <td>25%</td>\n",
       "      <td>0.000000</td>\n",
       "    </tr>\n",
       "    <tr>\n",
       "      <td>50%</td>\n",
       "      <td>0.020000</td>\n",
       "    </tr>\n",
       "    <tr>\n",
       "      <td>75%</td>\n",
       "      <td>0.130000</td>\n",
       "    </tr>\n",
       "    <tr>\n",
       "      <td>max</td>\n",
       "      <td>6.700000</td>\n",
       "    </tr>\n",
       "  </tbody>\n",
       "</table>\n",
       "</div>"
      ],
      "text/plain": [
       "       Precipitation\n",
       "count    2021.000000\n",
       "mean        0.177279\n",
       "std         0.461190\n",
       "min         0.000000\n",
       "25%         0.000000\n",
       "50%         0.020000\n",
       "75%         0.130000\n",
       "max         6.700000"
      ]
     },
     "execution_count": 44,
     "metadata": {},
     "output_type": "execute_result"
    }
   ],
   "source": [
    "# Use Pandas to calcualte the summary statistics for the precipitation data\n",
    "precipitation_df.describe()"
   ]
  },
  {
   "cell_type": "markdown",
   "metadata": {},
   "source": [
    "As it can be observed, in the graph and in the  summary statistics it is observed that precipitacion in Hawaii is aroun 0.13 inches, with a few picks over the year. Therefore it seems that any date is perfect for a Vacation in Hawaii, at least from the rainy days point of view."
   ]
  },
  {
   "cell_type": "markdown",
   "metadata": {},
   "source": [
    "# Station analysis\n",
    "\n",
    "Another important approach is to analyze the number of weather stations and the temperature in Hawaii. To do so, a querry to count the number of different stations is done. Then the number of observation for each station is counted through an if statement. The station with more observations is saved in a variable that is used to do another querry only over the station of interest. Then the temperature in the location of such an station is analyzed."
   ]
  },
  {
   "cell_type": "code",
   "execution_count": 47,
   "metadata": {},
   "outputs": [
    {
     "name": "stdout",
     "output_type": "stream",
     "text": [
      "There are 9 weather stations in Hawaii\n"
     ]
    }
   ],
   "source": [
    "# Design a query to show how many stations are available in this dataset?\n",
    "stations_q = session.query(Station.station, Station.name).count()\n",
    "\n",
    "print(f\"There are {stations_q} weather stations in Hawaii\")"
   ]
  },
  {
   "cell_type": "code",
   "execution_count": 48,
   "metadata": {},
   "outputs": [
    {
     "data": {
      "text/plain": [
       "[('USC00519397', '2010-01-01', 0.08, 65.0),\n",
       " ('USC00519397', '2010-01-02', 0.0, 63.0),\n",
       " ('USC00519397', '2010-01-03', 0.0, 74.0),\n",
       " ('USC00519397', '2010-01-04', 0.0, 76.0),\n",
       " ('USC00519397', '2010-01-06', None, 73.0),\n",
       " ('USC00519397', '2010-01-07', 0.06, 70.0),\n",
       " ('USC00519397', '2010-01-08', 0.0, 64.0),\n",
       " ('USC00519397', '2010-01-09', 0.0, 68.0),\n",
       " ('USC00519397', '2010-01-10', 0.0, 73.0),\n",
       " ('USC00519397', '2010-01-11', 0.01, 64.0),\n",
       " ('USC00519397', '2010-01-12', 0.0, 61.0),\n",
       " ('USC00519397', '2010-01-14', 0.0, 66.0),\n",
       " ('USC00519397', '2010-01-15', 0.0, 65.0),\n",
       " ('USC00519397', '2010-01-16', 0.0, 68.0),\n",
       " ('USC00519397', '2010-01-17', 0.0, 64.0),\n",
       " ('USC00519397', '2010-01-18', 0.0, 72.0),\n",
       " ('USC00519397', '2010-01-19', 0.0, 66.0),\n",
       " ('USC00519397', '2010-01-20', 0.0, 66.0),\n",
       " ('USC00519397', '2010-01-21', 0.0, 69.0),\n",
       " ('USC00519397', '2010-01-22', 0.0, 67.0),\n",
       " ('USC00519397', '2010-01-23', 0.0, 67.0),\n",
       " ('USC00519397', '2010-01-24', 0.01, 71.0),\n",
       " ('USC00519397', '2010-01-25', 0.0, 67.0),\n",
       " ('USC00519397', '2010-01-26', 0.04, 76.0),\n",
       " ('USC00519397', '2010-01-27', 0.12, 68.0),\n",
       " ('USC00519397', '2010-01-28', 0.0, 72.0),\n",
       " ('USC00519397', '2010-01-30', None, 70.0),\n",
       " ('USC00519397', '2010-01-31', 0.03, 67.0),\n",
       " ('USC00519397', '2010-02-01', 0.01, 66.0),\n",
       " ('USC00519397', '2010-02-03', None, 67.0),\n",
       " ('USC00519397', '2010-02-04', 0.01, 69.0),\n",
       " ('USC00519397', '2010-02-05', 0.0, 67.0),\n",
       " ('USC00519397', '2010-02-06', 0.0, 67.0),\n",
       " ('USC00519397', '2010-02-07', 0.0, 64.0),\n",
       " ('USC00519397', '2010-02-08', 0.0, 69.0),\n",
       " ('USC00519397', '2010-02-09', 0.0, 73.0),\n",
       " ('USC00519397', '2010-02-11', 0.0, 73.0),\n",
       " ('USC00519397', '2010-02-12', 0.02, 69.0),\n",
       " ('USC00519397', '2010-02-13', 0.01, 69.0),\n",
       " ('USC00519397', '2010-02-14', 0.0, 69.0),\n",
       " ('USC00519397', '2010-02-15', 0.0, 71.0),\n",
       " ('USC00519397', '2010-02-16', 0.0, 61.0),\n",
       " ('USC00519397', '2010-02-17', 0.0, 69.0),\n",
       " ('USC00519397', '2010-02-19', None, 63.0),\n",
       " ('USC00519397', '2010-02-20', 0.03, 64.0),\n",
       " ('USC00519397', '2010-02-21', 0.0, 65.0),\n",
       " ('USC00519397', '2010-02-22', 0.0, 67.0),\n",
       " ('USC00519397', '2010-02-23', 0.0, 68.0),\n",
       " ('USC00519397', '2010-02-24', 0.0, 65.0),\n",
       " ('USC00519397', '2010-02-25', 0.0, 76.0),\n",
       " ('USC00519397', '2010-02-26', 0.0, 75.0),\n",
       " ('USC00519397', '2010-02-28', 0.0, 66.0),\n",
       " ('USC00519397', '2010-03-01', 0.01, 70.0),\n",
       " ('USC00519397', '2010-03-02', 0.0, 72.0),\n",
       " ('USC00519397', '2010-03-03', 0.0, 73.0),\n",
       " ('USC00519397', '2010-03-04', 0.12, 70.0),\n",
       " ('USC00519397', '2010-03-05', 0.08, 71.0),\n",
       " ('USC00519397', '2010-03-06', 0.03, 72.0),\n",
       " ('USC00519397', '2010-03-07', 0.0, 72.0),\n",
       " ('USC00519397', '2010-03-08', 0.43, 69.0),\n",
       " ('USC00519397', '2010-03-09', 0.06, 70.0),\n",
       " ('USC00519397', '2010-03-11', None, 73.0),\n",
       " ('USC00519397', '2010-03-12', 0.0, 72.0),\n",
       " ('USC00519397', '2010-03-13', 0.0, 73.0),\n",
       " ('USC00519397', '2010-03-14', 0.0, 70.0),\n",
       " ('USC00519397', '2010-03-15', 0.06, 71.0),\n",
       " ('USC00519397', '2010-03-17', 0.0, 68.0),\n",
       " ('USC00519397', '2010-03-18', 0.0, 70.0),\n",
       " ('USC00519397', '2010-03-21', 0.0, 72.0),\n",
       " ('USC00519397', '2010-03-22', 0.0, 69.0),\n",
       " ('USC00519397', '2010-03-23', 0.0, 68.0),\n",
       " ('USC00519397', '2010-03-24', 0.0, 74.0),\n",
       " ('USC00519397', '2010-03-26', None, 72.0),\n",
       " ('USC00519397', '2010-03-27', 0.0, 72.0),\n",
       " ('USC00519397', '2010-03-28', 0.0, 73.0),\n",
       " ('USC00519397', '2010-03-29', 0.0, 74.0),\n",
       " ('USC00519397', '2010-03-30', 0.0, 73.0),\n",
       " ('USC00519397', '2010-03-31', 0.0, 73.0),\n",
       " ('USC00519397', '2010-04-01', 0.0, 74.0),\n",
       " ('USC00519397', '2010-04-02', 0.01, 74.0),\n",
       " ('USC00519397', '2010-04-03', 0.17, 74.0),\n",
       " ('USC00519397', '2010-04-04', 0.15, 71.0),\n",
       " ('USC00519397', '2010-04-05', 0.27, 72.0),\n",
       " ('USC00519397', '2010-04-06', 0.01, 75.0),\n",
       " ('USC00519397', '2010-04-08', 0.0, 75.0),\n",
       " ('USC00519397', '2010-04-09', 0.01, 75.0),\n",
       " ('USC00519397', '2010-04-10', 0.0, 75.0),\n",
       " ('USC00519397', '2010-04-11', 0.01, 73.0),\n",
       " ('USC00519397', '2010-04-12', 0.01, 73.0),\n",
       " ('USC00519397', '2010-04-13', 0.0, 71.0),\n",
       " ('USC00519397', '2010-04-15', 0.0, 71.0),\n",
       " ('USC00519397', '2010-04-16', 0.01, 68.0),\n",
       " ('USC00519397', '2010-04-17', 0.0, 70.0),\n",
       " ('USC00519397', '2010-04-18', 0.0, 71.0),\n",
       " ('USC00519397', '2010-04-19', 0.0, 74.0),\n",
       " ('USC00519397', '2010-04-20', 0.04, 71.0),\n",
       " ('USC00519397', '2010-04-21', 0.01, 75.0),\n",
       " ('USC00519397', '2010-04-22', 0.0, 76.0),\n",
       " ('USC00519397', '2010-04-23', 0.02, 75.0),\n",
       " ('USC00519397', '2010-04-24', 0.0, 75.0),\n",
       " ('USC00519397', '2010-04-25', 0.0, 76.0),\n",
       " ('USC00519397', '2010-04-26', 0.0, 76.0),\n",
       " ('USC00519397', '2010-04-28', 0.0, 76.0),\n",
       " ('USC00519397', '2010-04-30', 0.0, 77.0),\n",
       " ('USC00519397', '2010-05-01', 0.0, 77.0),\n",
       " ('USC00519397', '2010-05-02', 0.03, 73.0),\n",
       " ('USC00519397', '2010-05-03', 0.2, 74.0),\n",
       " ('USC00519397', '2010-05-04', 0.08, 76.0),\n",
       " ('USC00519397', '2010-05-05', 0.01, 76.0),\n",
       " ('USC00519397', '2010-05-06', 0.0, 80.0),\n",
       " ('USC00519397', '2010-05-07', 0.05, 74.0),\n",
       " ('USC00519397', '2010-05-08', 0.0, 77.0),\n",
       " ('USC00519397', '2010-05-09', 0.0, 77.0),\n",
       " ('USC00519397', '2010-05-10', 0.0, 76.0),\n",
       " ('USC00519397', '2010-05-11', 0.0, 77.0),\n",
       " ('USC00519397', '2010-05-13', 0.0, 78.0),\n",
       " ('USC00519397', '2010-05-14', 0.0, 78.0),\n",
       " ('USC00519397', '2010-05-15', 0.0, 75.0),\n",
       " ('USC00519397', '2010-05-16', 0.03, 73.0),\n",
       " ('USC00519397', '2010-05-17', 0.0, 77.0),\n",
       " ('USC00519397', '2010-05-18', 0.0, 76.0),\n",
       " ('USC00519397', '2010-05-19', 0.0, 77.0),\n",
       " ('USC00519397', '2010-05-21', None, 77.0),\n",
       " ('USC00519397', '2010-05-22', 0.0, 78.0),\n",
       " ('USC00519397', '2010-05-23', 0.05, 75.0),\n",
       " ('USC00519397', '2010-05-24', 0.0, 77.0),\n",
       " ('USC00519397', '2010-05-25', 0.0, 77.0),\n",
       " ('USC00519397', '2010-05-26', 0.02, 77.0),\n",
       " ('USC00519397', '2010-05-27', 0.0, 76.0),\n",
       " ('USC00519397', '2010-05-28', 0.0, 75.0),\n",
       " ('USC00519397', '2010-05-29', 0.0, 77.0),\n",
       " ('USC00519397', '2010-05-30', 0.0, 77.0),\n",
       " ('USC00519397', '2010-05-31', 0.0, 77.0),\n",
       " ('USC00519397', '2010-06-01', 0.0, 78.0),\n",
       " ('USC00519397', '2010-06-02', 0.01, 76.0),\n",
       " ('USC00519397', '2010-06-03', 0.0, 78.0),\n",
       " ('USC00519397', '2010-06-04', 0.0, 76.0),\n",
       " ('USC00519397', '2010-06-05', 0.0, 77.0),\n",
       " ('USC00519397', '2010-06-06', 0.0, 78.0),\n",
       " ('USC00519397', '2010-06-07', 0.0, 77.0),\n",
       " ('USC00519397', '2010-06-08', 0.0, 78.0),\n",
       " ('USC00519397', '2010-06-09', 0.0, 78.0),\n",
       " ('USC00519397', '2010-06-10', 0.0, 79.0),\n",
       " ('USC00519397', '2010-06-11', 0.0, 78.0),\n",
       " ('USC00519397', '2010-06-12', 0.0, 78.0),\n",
       " ('USC00519397', '2010-06-13', 0.0, 78.0),\n",
       " ('USC00519397', '2010-06-14', 0.0, 77.0),\n",
       " ('USC00519397', '2010-06-15', 0.0, 78.0),\n",
       " ('USC00519397', '2010-06-16', 0.0, 78.0),\n",
       " ('USC00519397', '2010-06-17', 0.0, 77.0),\n",
       " ('USC00519397', '2010-06-18', 0.0, 77.0),\n",
       " ('USC00519397', '2010-06-19', 0.0, 82.0),\n",
       " ('USC00519397', '2010-06-20', 0.0, 78.0),\n",
       " ('USC00519397', '2010-06-21', 0.0, 78.0),\n",
       " ('USC00519397', '2010-06-22', 0.0, 78.0),\n",
       " ('USC00519397', '2010-06-23', 0.0, 78.0),\n",
       " ('USC00519397', '2010-06-24', 0.0, 78.0),\n",
       " ('USC00519397', '2010-06-25', 0.0, 77.0),\n",
       " ('USC00519397', '2010-06-26', 0.02, 76.0),\n",
       " ('USC00519397', '2010-06-27', 0.0, 78.0),\n",
       " ('USC00519397', '2010-06-28', 0.0, 78.0),\n",
       " ('USC00519397', '2010-06-29', 0.0, 78.0),\n",
       " ('USC00519397', '2010-06-30', 0.0, 78.0),\n",
       " ('USC00519397', '2010-07-01', 0.01, 75.0),\n",
       " ('USC00519397', '2010-07-02', 0.05, 77.0),\n",
       " ('USC00519397', '2010-07-03', 0.09, 77.0),\n",
       " ('USC00519397', '2010-07-04', 0.05, 78.0),\n",
       " ('USC00519397', '2010-07-05', 0.06, 78.0),\n",
       " ('USC00519397', '2010-07-06', 0.08, 76.0),\n",
       " ('USC00519397', '2010-07-07', 0.08, 74.0),\n",
       " ('USC00519397', '2010-07-08', 0.03, 76.0),\n",
       " ('USC00519397', '2010-07-09', 0.06, 74.0),\n",
       " ('USC00519397', '2010-07-10', 0.09, 76.0),\n",
       " ('USC00519397', '2010-07-11', 0.0, 78.0),\n",
       " ('USC00519397', '2010-07-12', 0.0, 77.0),\n",
       " ('USC00519397', '2010-07-13', 0.0, 80.0),\n",
       " ('USC00519397', '2010-07-16', None, 78.0),\n",
       " ('USC00519397', '2010-07-17', 0.02, 76.0),\n",
       " ('USC00519397', '2010-07-18', 0.0, 77.0),\n",
       " ('USC00519397', '2010-07-19', 0.04, 77.0),\n",
       " ('USC00519397', '2010-07-21', 0.0, 80.0),\n",
       " ('USC00519397', '2010-07-22', 0.0, 78.0),\n",
       " ('USC00519397', '2010-07-24', 0.0, 80.0),\n",
       " ('USC00519397', '2010-07-25', 0.0, 79.0),\n",
       " ('USC00519397', '2010-07-26', 0.0, 78.0),\n",
       " ('USC00519397', '2010-07-27', 0.0, 79.0),\n",
       " ('USC00519397', '2010-07-28', 0.0, 78.0),\n",
       " ('USC00519397', '2010-07-29', 0.0, 79.0),\n",
       " ('USC00519397', '2010-07-30', 0.0, 78.0),\n",
       " ('USC00519397', '2010-07-31', 0.02, 77.0),\n",
       " ('USC00519397', '2010-08-01', 0.04, 77.0),\n",
       " ('USC00519397', '2010-08-02', 0.01, 76.0),\n",
       " ('USC00519397', '2010-08-03', 0.02, 77.0),\n",
       " ('USC00519397', '2010-08-04', 0.07, 77.0),\n",
       " ('USC00519397', '2010-08-05', 0.08, 75.0),\n",
       " ('USC00519397', '2010-08-06', 0.03, 75.0),\n",
       " ('USC00519397', '2010-08-07', 0.0, 80.0),\n",
       " ('USC00519397', '2010-08-08', 0.0, 77.0),\n",
       " ('USC00519397', '2010-08-09', 0.0, 78.0),\n",
       " ('USC00519397', '2010-08-10', 0.0, 78.0),\n",
       " ('USC00519397', '2010-08-11', 0.0, 77.0),\n",
       " ('USC00519397', '2010-08-12', 0.0, 76.0),\n",
       " ('USC00519397', '2010-08-13', 0.0, 78.0),\n",
       " ('USC00519397', '2010-08-14', 0.0, 78.0),\n",
       " ('USC00519397', '2010-08-15', 0.01, 76.0),\n",
       " ('USC00519397', '2010-08-16', 0.0, 76.0),\n",
       " ('USC00519397', '2010-08-17', 0.05, 74.0),\n",
       " ('USC00519397', '2010-08-18', 0.0, 77.0),\n",
       " ('USC00519397', '2010-08-19', 0.0, 79.0),\n",
       " ('USC00519397', '2010-08-20', 0.0, 79.0),\n",
       " ('USC00519397', '2010-08-21', 0.0, 79.0),\n",
       " ('USC00519397', '2010-08-22', 0.0, 75.0),\n",
       " ('USC00519397', '2010-08-23', 0.01, 87.0),\n",
       " ('USC00519397', '2010-08-24', 0.0, 78.0),\n",
       " ('USC00519397', '2010-08-25', 0.04, 76.0),\n",
       " ('USC00519397', '2010-08-26', 0.03, 78.0),\n",
       " ('USC00519397', '2010-08-27', 0.0, 78.0),\n",
       " ('USC00519397', '2010-08-28', 0.04, 79.0),\n",
       " ('USC00519397', '2010-08-29', 0.0, 78.0),\n",
       " ('USC00519397', '2010-08-30', 0.0, 78.0),\n",
       " ('USC00519397', '2010-08-31', 0.0, 80.0),\n",
       " ('USC00519397', '2010-09-01', 0.0, 77.0),\n",
       " ('USC00519397', '2010-09-02', 0.02, 76.0),\n",
       " ('USC00519397', '2010-09-03', 0.04, 78.0),\n",
       " ('USC00519397', '2010-09-04', 0.01, 77.0),\n",
       " ('USC00519397', '2010-09-05', 0.0, 77.0),\n",
       " ('USC00519397', '2010-09-06', 0.0, 77.0),\n",
       " ('USC00519397', '2010-09-07', 0.06, 76.0),\n",
       " ('USC00519397', '2010-09-08', 0.0, 78.0),\n",
       " ('USC00519397', '2010-09-09', 0.0, 78.0),\n",
       " ('USC00519397', '2010-09-10', 0.0, 78.0),\n",
       " ('USC00519397', '2010-09-11', 0.05, 78.0),\n",
       " ('USC00519397', '2010-09-12', 0.0, 74.0),\n",
       " ('USC00519397', '2010-09-13', 0.0, 78.0),\n",
       " ('USC00519397', '2010-09-14', 0.0, 79.0),\n",
       " ('USC00519397', '2010-09-15', 0.0, 77.0),\n",
       " ('USC00519397', '2010-09-16', 0.0, 79.0),\n",
       " ('USC00519397', '2010-09-17', 0.0, 78.0),\n",
       " ('USC00519397', '2010-09-19', 0.0, 78.0),\n",
       " ('USC00519397', '2010-09-20', 0.0, 78.0),\n",
       " ('USC00519397', '2010-09-21', 0.0, 79.0),\n",
       " ('USC00519397', '2010-09-22', 0.04, 76.0),\n",
       " ('USC00519397', '2010-09-23', 0.0, 78.0),\n",
       " ('USC00519397', '2010-09-24', 0.0, 78.0),\n",
       " ('USC00519397', '2010-09-25', 0.0, 79.0),\n",
       " ('USC00519397', '2010-09-26', 0.0, 74.0),\n",
       " ('USC00519397', '2010-09-27', 0.0, 75.0),\n",
       " ('USC00519397', '2010-09-28', 0.0, 75.0),\n",
       " ('USC00519397', '2010-09-29', 0.0, 78.0),\n",
       " ('USC00519397', '2010-09-30', 0.57, 73.0),\n",
       " ('USC00519397', '2010-10-01', 0.31, 78.0),\n",
       " ('USC00519397', '2010-10-02', 0.03, 78.0),\n",
       " ('USC00519397', '2010-10-03', 0.0, 78.0),\n",
       " ('USC00519397', '2010-10-04', 0.06, 78.0),\n",
       " ('USC00519397', '2010-10-05', 0.0, 80.0),\n",
       " ('USC00519397', '2010-10-06', 0.0, 79.0),\n",
       " ('USC00519397', '2010-10-07', 0.0, 79.0),\n",
       " ('USC00519397', '2010-10-08', 0.0, 78.0),\n",
       " ('USC00519397', '2010-10-09', 0.0, 78.0),\n",
       " ('USC00519397', '2010-10-10', 0.0, 78.0),\n",
       " ('USC00519397', '2010-10-11', 0.0, 77.0),\n",
       " ('USC00519397', '2010-10-12', 0.0, 79.0),\n",
       " ('USC00519397', '2010-10-13', 0.0, 78.0),\n",
       " ('USC00519397', '2010-10-15', 0.0, 78.0),\n",
       " ('USC00519397', '2010-10-16', 0.0, 77.0),\n",
       " ('USC00519397', '2010-10-17', 0.0, 76.0),\n",
       " ('USC00519397', '2010-10-18', 0.0, 76.0),\n",
       " ('USC00519397', '2010-10-19', 0.07, 72.0),\n",
       " ('USC00519397', '2010-10-20', 0.0, 74.0),\n",
       " ('USC00519397', '2010-10-21', 0.0, 80.0),\n",
       " ('USC00519397', '2010-10-22', 0.0, 77.0),\n",
       " ('USC00519397', '2010-10-23', 0.0, 75.0),\n",
       " ('USC00519397', '2010-10-24', 0.0, 78.0),\n",
       " ('USC00519397', '2010-10-25', 0.0, 78.0),\n",
       " ('USC00519397', '2010-10-26', 0.07, 76.0),\n",
       " ('USC00519397', '2010-10-27', 0.05, 79.0),\n",
       " ('USC00519397', '2010-10-28', 0.06, 78.0),\n",
       " ('USC00519397', '2010-10-29', 0.03, 78.0),\n",
       " ('USC00519397', '2010-10-30', 0.02, 77.0),\n",
       " ('USC00519397', '2010-10-31', 0.0, 76.0),\n",
       " ('USC00519397', '2010-11-01', 0.01, 75.0),\n",
       " ('USC00519397', '2010-11-02', 0.01, 73.0),\n",
       " ('USC00519397', '2010-11-04', None, 73.0),\n",
       " ('USC00519397', '2010-11-05', 0.0, 77.0),\n",
       " ('USC00519397', '2010-11-06', 0.0, 76.0),\n",
       " ('USC00519397', '2010-11-07', 0.0, 77.0),\n",
       " ('USC00519397', '2010-11-08', 0.0, 76.0),\n",
       " ('USC00519397', '2010-11-09', 0.0, 73.0),\n",
       " ('USC00519397', '2010-11-10', 0.23, 73.0),\n",
       " ('USC00519397', '2010-11-11', 0.0, 77.0),\n",
       " ('USC00519397', '2010-11-12', 0.0, 77.0),\n",
       " ('USC00519397', '2010-11-13', 0.0, 76.0),\n",
       " ('USC00519397', '2010-11-16', 0.0, 73.0),\n",
       " ('USC00519397', '2010-11-17', 0.0, 73.0),\n",
       " ('USC00519397', '2010-11-19', None, 72.0),\n",
       " ('USC00519397', '2010-11-20', 0.03, 69.0),\n",
       " ('USC00519397', '2010-11-21', 0.0, 69.0),\n",
       " ('USC00519397', '2010-11-22', 0.0, 68.0),\n",
       " ('USC00519397', '2010-11-23', 0.0, 69.0),\n",
       " ('USC00519397', '2010-11-24', 0.0, 76.0),\n",
       " ('USC00519397', '2010-11-25', 0.0, 76.0),\n",
       " ('USC00519397', '2010-11-27', 0.0, 75.0),\n",
       " ('USC00519397', '2010-11-28', 0.0, 74.0),\n",
       " ('USC00519397', '2010-11-29', 0.0, 69.0),\n",
       " ('USC00519397', '2010-11-30', 0.0, 74.0),\n",
       " ('USC00519397', '2010-12-01', 0.04, 76.0),\n",
       " ('USC00519397', '2010-12-03', 0.0, 74.0),\n",
       " ('USC00519397', '2010-12-04', 0.0, 74.0),\n",
       " ('USC00519397', '2010-12-06', 0.0, 64.0),\n",
       " ('USC00519397', '2010-12-07', 0.0, 64.0),\n",
       " ('USC00519397', '2010-12-08', 0.0, 67.0),\n",
       " ('USC00519397', '2010-12-09', 0.0, 77.0),\n",
       " ('USC00519397', '2010-12-10', 1.58, 66.0),\n",
       " ('USC00519397', '2010-12-11', 0.77, 69.0),\n",
       " ('USC00519397', '2010-12-12', 0.0, 68.0),\n",
       " ('USC00519397', '2010-12-13', 0.0, 68.0),\n",
       " ('USC00519397', '2010-12-14', 0.0, 71.0),\n",
       " ('USC00519397', '2010-12-15', 0.0, 74.0),\n",
       " ('USC00519397', '2010-12-16', 0.0, 67.0),\n",
       " ('USC00519397', '2010-12-17', 0.0, 66.0),\n",
       " ('USC00519397', '2010-12-18', 0.0, 69.0),\n",
       " ('USC00519397', '2010-12-19', 1.4, 71.0),\n",
       " ('USC00519397', '2010-12-23', 0.0, 70.0),\n",
       " ('USC00519397', '2010-12-24', 0.0, 70.0),\n",
       " ('USC00519397', '2010-12-26', None, 74.0),\n",
       " ('USC00519397', '2010-12-27', 0.13, 74.0),\n",
       " ('USC00519397', '2010-12-28', 0.55, 71.0),\n",
       " ('USC00519397', '2010-12-29', 0.06, 75.0),\n",
       " ('USC00519397', '2010-12-30', 0.01, 75.0),\n",
       " ('USC00519397', '2010-12-31', 0.0, 72.0),\n",
       " ('USC00519397', '2011-01-01', 0.0, 69.0),\n",
       " ('USC00519397', '2011-01-02', 0.0, 72.0),\n",
       " ('USC00519397', '2011-01-03', 0.0, 74.0),\n",
       " ('USC00519397', '2011-01-04', 0.0, 73.0),\n",
       " ('USC00519397', '2011-01-05', 0.0, 64.0),\n",
       " ('USC00519397', '2011-01-06', 0.01, 65.0),\n",
       " ('USC00519397', '2011-01-07', 0.0, 68.0),\n",
       " ('USC00519397', '2011-01-08', 0.0, 62.0),\n",
       " ('USC00519397', '2011-01-09', 0.0, 58.0),\n",
       " ('USC00519397', '2011-01-10', 0.0, 73.0),\n",
       " ('USC00519397', '2011-01-11', 0.09, 60.0),\n",
       " ('USC00519397', '2011-01-13', None, 68.0),\n",
       " ('USC00519397', '2011-01-14', 0.03, 76.0),\n",
       " ('USC00519397', '2011-01-15', 0.0, 68.0),\n",
       " ('USC00519397', '2011-01-16', 0.0, 66.0),\n",
       " ('USC00519397', '2011-01-17', 0.0, 64.0),\n",
       " ('USC00519397', '2011-01-18', 0.0, 64.0),\n",
       " ('USC00519397', '2011-01-19', 0.03, 64.0),\n",
       " ('USC00519397', '2011-01-20', 0.0, 76.0),\n",
       " ('USC00519397', '2011-01-21', 0.0, 75.0),\n",
       " ('USC00519397', '2011-01-22', 0.0, 68.0),\n",
       " ('USC00519397', '2011-01-23', 0.0, 68.0),\n",
       " ('USC00519397', '2011-01-24', 0.0, 72.0),\n",
       " ('USC00519397', '2011-01-25', 0.0, 63.0),\n",
       " ('USC00519397', '2011-01-27', 0.0, 68.0),\n",
       " ('USC00519397', '2011-01-28', 0.0, 75.0),\n",
       " ('USC00519397', '2011-01-29', 0.0, 65.0),\n",
       " ('USC00519397', '2011-01-30', 0.0, 64.0),\n",
       " ('USC00519397', '2011-01-31', 0.22, 68.0),\n",
       " ('USC00519397', '2011-02-01', 0.0, 68.0),\n",
       " ('USC00519397', '2011-02-02', 0.0, 66.0),\n",
       " ('USC00519397', '2011-02-03', 0.0, 67.0),\n",
       " ('USC00519397', '2011-02-04', 0.0, 64.0),\n",
       " ('USC00519397', '2011-02-05', 0.0, 65.0),\n",
       " ('USC00519397', '2011-02-06', 0.0, 75.0),\n",
       " ('USC00519397', '2011-02-07', 1.29, 68.0),\n",
       " ('USC00519397', '2011-02-08', 1.3, 71.0),\n",
       " ('USC00519397', '2011-02-09', 0.0, 71.0),\n",
       " ('USC00519397', '2011-02-10', 0.29, 71.0),\n",
       " ('USC00519397', '2011-02-12', None, 68.0),\n",
       " ('USC00519397', '2011-02-13', 0.0, 68.0),\n",
       " ('USC00519397', '2011-02-14', 0.04, 72.0),\n",
       " ('USC00519397', '2011-02-15', 0.05, 70.0),\n",
       " ('USC00519397', '2011-02-16', 0.0, 74.0),\n",
       " ('USC00519397', '2011-02-19', 0.0, 67.0),\n",
       " ('USC00519397', '2011-02-20', 1.72, 71.0),\n",
       " ('USC00519397', '2011-02-21', 0.0, 71.0),\n",
       " ('USC00519397', '2011-02-22', 0.82, 71.0),\n",
       " ('USC00519397', '2011-02-23', 0.0, 74.0),\n",
       " ('USC00519397', '2011-02-24', 0.2, 68.0),\n",
       " ('USC00519397', '2011-02-25', 0.0, 71.0),\n",
       " ('USC00519397', '2011-02-26', 0.0, 69.0),\n",
       " ('USC00519397', '2011-02-27', 0.0, 69.0),\n",
       " ('USC00519397', '2011-02-28', 0.0, 68.0),\n",
       " ('USC00519397', '2011-03-01', 0.1, 68.0),\n",
       " ('USC00519397', '2011-03-02', 0.0, 72.0),\n",
       " ('USC00519397', '2011-03-03', 0.0, 74.0),\n",
       " ('USC00519397', '2011-03-04', 0.88, 72.0),\n",
       " ('USC00519397', '2011-03-05', 0.4, 69.0),\n",
       " ('USC00519397', '2011-03-06', 0.03, 70.0),\n",
       " ('USC00519397', '2011-03-08', None, 72.0),\n",
       " ('USC00519397', '2011-03-09', 0.2, 71.0),\n",
       " ('USC00519397', '2011-03-10', 0.15, 71.0),\n",
       " ('USC00519397', '2011-03-12', 0.0, 72.0),\n",
       " ('USC00519397', '2011-03-13', 0.0, 70.0),\n",
       " ('USC00519397', '2011-03-14', 0.0, 71.0),\n",
       " ('USC00519397', '2011-03-16', 0.0, 76.0),\n",
       " ('USC00519397', '2011-03-17', 0.01, 73.0),\n",
       " ('USC00519397', '2011-03-18', 0.05, 74.0),\n",
       " ('USC00519397', '2011-03-19', 0.01, 74.0),\n",
       " ('USC00519397', '2011-03-20', 0.02, 74.0),\n",
       " ('USC00519397', '2011-03-21', 0.0, 74.0),\n",
       " ('USC00519397', '2011-03-22', 0.02, 74.0),\n",
       " ('USC00519397', '2011-03-23', 0.0, 74.0),\n",
       " ('USC00519397', '2011-03-24', 0.06, 73.0),\n",
       " ('USC00519397', '2011-03-25', 0.0, 74.0),\n",
       " ('USC00519397', '2011-03-26', 0.0, 74.0),\n",
       " ('USC00519397', '2011-03-27', 0.0, 73.0),\n",
       " ('USC00519397', '2011-03-28', 0.04, 74.0),\n",
       " ('USC00519397', '2011-03-30', 0.0, 75.0),\n",
       " ('USC00519397', '2011-03-31', 0.0, 74.0),\n",
       " ('USC00519397', '2011-04-01', 0.05, 74.0),\n",
       " ('USC00519397', '2011-04-02', 0.04, 75.0),\n",
       " ('USC00519397', '2011-04-03', 0.0, 74.0),\n",
       " ('USC00519397', '2011-04-04', 0.0, 75.0),\n",
       " ('USC00519397', '2011-04-05', 0.0, 74.0),\n",
       " ('USC00519397', '2011-04-06', 0.09, 70.0),\n",
       " ('USC00519397', '2011-04-07', 1.11, 70.0),\n",
       " ('USC00519397', '2011-04-08', 0.36, 70.0),\n",
       " ('USC00519397', '2011-04-09', 0.02, 76.0),\n",
       " ('USC00519397', '2011-04-10', 0.0, 76.0),\n",
       " ('USC00519397', '2011-04-11', 0.0, 76.0),\n",
       " ('USC00519397', '2011-04-12', 0.0, 76.0),\n",
       " ('USC00519397', '2011-04-13', 0.0, 70.0),\n",
       " ('USC00519397', '2011-04-15', 0.0, 77.0),\n",
       " ('USC00519397', '2011-04-16', 0.12, 74.0),\n",
       " ('USC00519397', '2011-04-17', 0.0, 73.0),\n",
       " ('USC00519397', '2011-04-18', 0.0, 76.0),\n",
       " ('USC00519397', '2011-04-19', 0.0, 76.0),\n",
       " ('USC00519397', '2011-04-20', 0.0, 74.0),\n",
       " ('USC00519397', '2011-04-21', 0.0, 77.0),\n",
       " ('USC00519397', '2011-04-22', 0.0, 77.0),\n",
       " ('USC00519397', '2011-04-23', 0.0, 78.0),\n",
       " ('USC00519397', '2011-04-24', 0.0, 77.0),\n",
       " ('USC00519397', '2011-04-25', 0.0, 77.0),\n",
       " ('USC00519397', '2011-04-26', 0.0, 76.0),\n",
       " ('USC00519397', '2011-04-27', 0.0, 77.0),\n",
       " ('USC00519397', '2011-04-29', 0.0, 78.0),\n",
       " ('USC00519397', '2011-04-30', 0.04, 76.0),\n",
       " ('USC00519397', '2011-05-01', 0.0, 77.0),\n",
       " ('USC00519397', '2011-05-02', 0.0, 77.0),\n",
       " ('USC00519397', '2011-05-03', 2.1, 70.0),\n",
       " ('USC00519397', '2011-05-04', 0.02, 76.0),\n",
       " ('USC00519397', '2011-05-05', 0.12, 74.0),\n",
       " ('USC00519397', '2011-05-06', 0.12, 72.0),\n",
       " ('USC00519397', '2011-05-07', 0.55, 74.0),\n",
       " ('USC00519397', '2011-05-08', 0.55, 73.0),\n",
       " ('USC00519397', '2011-05-09', 0.02, 75.0),\n",
       " ('USC00519397', '2011-05-10', 0.11, 75.0),\n",
       " ('USC00519397', '2011-05-11', 0.1, 75.0),\n",
       " ('USC00519397', '2011-05-12', 0.0, 76.0),\n",
       " ('USC00519397', '2011-05-13', 0.0, 77.0),\n",
       " ('USC00519397', '2011-05-14', 0.0, 78.0),\n",
       " ('USC00519397', '2011-05-15', 0.0, 77.0),\n",
       " ('USC00519397', '2011-05-16', 0.0, 78.0),\n",
       " ('USC00519397', '2011-05-17', 0.0, 77.0),\n",
       " ('USC00519397', '2011-05-18', 0.0, 76.0),\n",
       " ('USC00519397', '2011-05-19', 0.01, 77.0),\n",
       " ('USC00519397', '2011-05-20', 0.0, 79.0),\n",
       " ('USC00519397', '2011-05-21', 0.0, 77.0),\n",
       " ('USC00519397', '2011-05-22', 0.06, 74.0),\n",
       " ('USC00519397', '2011-05-23', 0.02, 78.0),\n",
       " ('USC00519397', '2011-05-24', 0.0, 77.0),\n",
       " ('USC00519397', '2011-05-25', 0.0, 79.0),\n",
       " ('USC00519397', '2011-05-26', 0.0, 78.0),\n",
       " ('USC00519397', '2011-05-27', 0.0, 78.0),\n",
       " ('USC00519397', '2011-05-28', 0.0, 77.0),\n",
       " ('USC00519397', '2011-05-29', 0.0, 78.0),\n",
       " ('USC00519397', '2011-05-30', 0.0, 78.0),\n",
       " ('USC00519397', '2011-05-31', 0.05, 73.0),\n",
       " ('USC00519397', '2011-06-01', 0.07, 77.0),\n",
       " ('USC00519397', '2011-06-02', 0.0, 78.0),\n",
       " ('USC00519397', '2011-06-03', 0.56, 73.0),\n",
       " ('USC00519397', '2011-06-04', 0.89, 70.0),\n",
       " ('USC00519397', '2011-06-05', 0.0, 76.0),\n",
       " ('USC00519397', '2011-06-06', 0.0, 77.0),\n",
       " ('USC00519397', '2011-06-07', 0.0, 77.0),\n",
       " ('USC00519397', '2011-06-08', 0.03, 77.0),\n",
       " ('USC00519397', '2011-06-09', 0.01, 77.0),\n",
       " ('USC00519397', '2011-06-10', 0.0, 78.0),\n",
       " ('USC00519397', '2011-06-11', 0.0, 77.0),\n",
       " ('USC00519397', '2011-06-12', 0.0, 77.0),\n",
       " ('USC00519397', '2011-06-13', 0.0, 78.0),\n",
       " ('USC00519397', '2011-06-14', 0.0, 78.0),\n",
       " ('USC00519397', '2011-06-15', 0.0, 77.0),\n",
       " ('USC00519397', '2011-06-17', 0.0, 78.0),\n",
       " ('USC00519397', '2011-06-18', 0.0, 78.0),\n",
       " ('USC00519397', '2011-06-19', 0.05, 75.0),\n",
       " ('USC00519397', '2011-06-20', 0.06, 76.0),\n",
       " ('USC00519397', '2011-06-21', 0.07, 76.0),\n",
       " ('USC00519397', '2011-06-24', None, 77.0),\n",
       " ('USC00519397', '2011-06-25', 0.0, 78.0),\n",
       " ('USC00519397', '2011-06-26', 0.0, 76.0),\n",
       " ('USC00519397', '2011-06-27', 0.01, 77.0),\n",
       " ('USC00519397', '2011-06-28', 0.01, 75.0),\n",
       " ('USC00519397', '2011-06-29', 0.0, 77.0),\n",
       " ('USC00519397', '2011-07-01', 0.05, 77.0),\n",
       " ('USC00519397', '2011-07-02', 0.02, 78.0),\n",
       " ('USC00519397', '2011-07-03', 0.0, 78.0),\n",
       " ('USC00519397', '2011-07-04', 0.0, 78.0),\n",
       " ('USC00519397', '2011-07-05', 0.01, 78.0),\n",
       " ('USC00519397', '2011-07-06', 0.01, 76.0),\n",
       " ('USC00519397', '2011-07-07', 0.01, 76.0),\n",
       " ('USC00519397', '2011-07-08', 0.0, 77.0),\n",
       " ('USC00519397', '2011-07-09', 0.03, 77.0),\n",
       " ('USC00519397', '2011-07-10', 0.02, 77.0),\n",
       " ('USC00519397', '2011-07-11', 0.0, 78.0),\n",
       " ('USC00519397', '2011-07-12', 0.0, 77.0),\n",
       " ('USC00519397', '2011-07-13', 0.15, 73.0),\n",
       " ('USC00519397', '2011-07-14', 0.0, 77.0),\n",
       " ('USC00519397', '2011-07-15', 0.0, 79.0),\n",
       " ('USC00519397', '2011-07-16', 0.0, 78.0),\n",
       " ('USC00519397', '2011-07-17', 0.04, 77.0),\n",
       " ('USC00519397', '2011-07-18', 0.0, 78.0),\n",
       " ('USC00519397', '2011-07-19', 0.0, 78.0),\n",
       " ('USC00519397', '2011-07-20', 0.0, 76.0),\n",
       " ('USC00519397', '2011-07-21', 0.03, 77.0),\n",
       " ('USC00519397', '2011-07-23', 0.0, 78.0),\n",
       " ('USC00519397', '2011-07-24', 0.0, 77.0),\n",
       " ('USC00519397', '2011-07-25', 0.0, 78.0),\n",
       " ('USC00519397', '2011-07-26', 0.0, 78.0),\n",
       " ('USC00519397', '2011-07-27', 0.04, 77.0),\n",
       " ('USC00519397', '2011-07-28', 0.09, 77.0),\n",
       " ('USC00519397', '2011-07-29', 0.04, 78.0),\n",
       " ('USC00519397', '2011-07-30', 0.12, 80.0),\n",
       " ('USC00519397', '2011-07-31', 0.0, 77.0),\n",
       " ('USC00519397', '2011-08-01', 0.0, 78.0),\n",
       " ('USC00519397', '2011-08-02', 0.0, 77.0),\n",
       " ('USC00519397', '2011-08-03', 0.0, 78.0),\n",
       " ('USC00519397', '2011-08-04', 0.02, 76.0),\n",
       " ('USC00519397', '2011-08-05', 0.03, 78.0),\n",
       " ('USC00519397', '2011-08-06', 0.01, 77.0),\n",
       " ('USC00519397', '2011-08-07', 0.0, 78.0),\n",
       " ('USC00519397', '2011-08-08', 0.0, 78.0),\n",
       " ('USC00519397', '2011-08-09', 0.0, 79.0),\n",
       " ('USC00519397', '2011-08-11', 0.0, 78.0),\n",
       " ('USC00519397', '2011-08-12', 0.0, 78.0),\n",
       " ('USC00519397', '2011-08-13', 0.0, 76.0),\n",
       " ('USC00519397', '2011-08-14', 0.0, 78.0),\n",
       " ('USC00519397', '2011-08-15', 0.0, 77.0),\n",
       " ('USC00519397', '2011-08-16', 0.0, 79.0),\n",
       " ('USC00519397', '2011-08-17', 0.02, 77.0),\n",
       " ('USC00519397', '2011-08-18', 0.0, 77.0),\n",
       " ('USC00519397', '2011-08-19', 0.0, 78.0),\n",
       " ('USC00519397', '2011-08-20', 0.07, 77.0),\n",
       " ('USC00519397', '2011-08-21', 0.0, 77.0),\n",
       " ('USC00519397', '2011-08-22', 0.0, 78.0),\n",
       " ('USC00519397', '2011-08-23', 0.0, 78.0),\n",
       " ('USC00519397', '2011-08-24', 0.0, 79.0),\n",
       " ('USC00519397', '2011-08-25', 0.0, 78.0),\n",
       " ('USC00519397', '2011-08-26', 0.0, 78.0),\n",
       " ('USC00519397', '2011-08-27', 0.0, 79.0),\n",
       " ('USC00519397', '2011-08-28', 0.05, 76.0),\n",
       " ('USC00519397', '2011-08-29', 0.1, 76.0),\n",
       " ('USC00519397', '2011-08-30', 0.02, 78.0),\n",
       " ('USC00519397', '2011-08-31', 0.0, 79.0),\n",
       " ('USC00519397', '2011-09-02', 0.0, 79.0),\n",
       " ('USC00519397', '2011-09-03', 0.0, 78.0),\n",
       " ('USC00519397', '2011-09-04', 0.03, 77.0),\n",
       " ('USC00519397', '2011-09-05', 0.0, 77.0),\n",
       " ('USC00519397', '2011-09-06', 0.0, 73.0),\n",
       " ('USC00519397', '2011-09-07', 0.0, 73.0),\n",
       " ('USC00519397', '2011-09-08', 0.0, 77.0),\n",
       " ('USC00519397', '2011-09-09', 0.0, 79.0),\n",
       " ('USC00519397', '2011-09-10', 0.0, 77.0),\n",
       " ('USC00519397', '2011-09-11', 0.0, 77.0),\n",
       " ('USC00519397', '2011-09-12', 0.0, 85.0),\n",
       " ('USC00519397', '2011-09-13', 0.01, 77.0),\n",
       " ('USC00519397', '2011-09-14', 0.0, 76.0),\n",
       " ('USC00519397', '2011-09-15', 0.0, 79.0),\n",
       " ('USC00519397', '2011-09-16', 0.0, 79.0),\n",
       " ('USC00519397', '2011-09-17', 0.02, 77.0),\n",
       " ('USC00519397', '2011-09-18', 0.04, 77.0),\n",
       " ('USC00519397', '2011-09-19', 0.0, 82.0),\n",
       " ('USC00519397', '2011-09-20', 0.0, 80.0),\n",
       " ('USC00519397', '2011-09-21', 0.0, 79.0),\n",
       " ('USC00519397', '2011-09-22', 0.03, 78.0),\n",
       " ('USC00519397', '2011-09-23', 0.0, 76.0),\n",
       " ('USC00519397', '2011-09-24', 0.0, 77.0),\n",
       " ('USC00519397', '2011-09-25', 0.0, 74.0),\n",
       " ('USC00519397', '2011-09-26', 0.0, 77.0),\n",
       " ('USC00519397', '2011-09-27', 0.0, 78.0),\n",
       " ('USC00519397', '2011-09-28', 0.0, 77.0),\n",
       " ('USC00519397', '2011-10-01', 0.0, 78.0),\n",
       " ('USC00519397', '2011-10-02', 0.0, 78.0),\n",
       " ('USC00519397', '2011-10-03', 0.0, 80.0),\n",
       " ('USC00519397', '2011-10-05', None, 79.0),\n",
       " ('USC00519397', '2011-10-06', 0.0, 75.0),\n",
       " ('USC00519397', '2011-10-07', 0.03, 78.0),\n",
       " ('USC00519397', '2011-10-08', 0.0, 79.0),\n",
       " ('USC00519397', '2011-10-09', 0.0, 78.0),\n",
       " ('USC00519397', '2011-10-10', 0.02, 77.0),\n",
       " ('USC00519397', '2011-10-11', 0.03, 78.0),\n",
       " ('USC00519397', '2011-10-12', 0.0, 77.0),\n",
       " ('USC00519397', '2011-10-13', 0.0, 77.0),\n",
       " ('USC00519397', '2011-10-14', 0.03, 78.0),\n",
       " ('USC00519397', '2011-10-15', 0.02, 77.0),\n",
       " ('USC00519397', '2011-10-16', 0.0, 76.0),\n",
       " ('USC00519397', '2011-10-17', 0.02, 77.0),\n",
       " ('USC00519397', '2011-10-18', 0.01, 76.0),\n",
       " ('USC00519397', '2011-10-19', 0.0, 74.0),\n",
       " ('USC00519397', '2011-10-20', 0.0, 78.0),\n",
       " ('USC00519397', '2011-10-21', 0.0, 76.0),\n",
       " ('USC00519397', '2011-10-22', 0.0, 77.0),\n",
       " ('USC00519397', '2011-10-23', 0.0, 75.0),\n",
       " ('USC00519397', '2011-10-24', 0.14, 74.0),\n",
       " ('USC00519397', '2011-10-25', 1.6, 77.0),\n",
       " ('USC00519397', '2011-10-26', 0.01, 76.0),\n",
       " ('USC00519397', '2011-10-27', 0.0, 77.0),\n",
       " ('USC00519397', '2011-10-28', 0.05, 73.0),\n",
       " ('USC00519397', '2011-10-29', 0.01, 76.0),\n",
       " ('USC00519397', '2011-10-30', 0.0, 75.0),\n",
       " ('USC00519397', '2011-10-31', 0.03, 76.0),\n",
       " ('USC00519397', '2011-11-01', 0.58, 71.0),\n",
       " ('USC00519397', '2011-11-02', 0.28, 77.0),\n",
       " ('USC00519397', '2011-11-03', 0.02, 77.0),\n",
       " ('USC00519397', '2011-11-04', 0.01, 75.0),\n",
       " ('USC00519397', '2011-11-05', 0.0, 76.0),\n",
       " ('USC00519397', '2011-11-06', 0.0, 77.0),\n",
       " ('USC00519397', '2011-11-07', 0.0, 78.0),\n",
       " ('USC00519397', '2011-11-08', 0.0, 76.0),\n",
       " ('USC00519397', '2011-11-09', 0.02, 76.0),\n",
       " ('USC00519397', '2011-11-10', 0.0, 76.0),\n",
       " ('USC00519397', '2011-11-11', 0.05, 74.0),\n",
       " ('USC00519397', '2011-11-12', 0.0, 75.0),\n",
       " ('USC00519397', '2011-11-13', 0.0, 76.0),\n",
       " ('USC00519397', '2011-11-14', 0.0, 73.0),\n",
       " ('USC00519397', '2011-11-15', 0.0, 71.0),\n",
       " ('USC00519397', '2011-11-16', 0.0, 75.0),\n",
       " ('USC00519397', '2011-11-17', 0.0, 76.0),\n",
       " ('USC00519397', '2011-11-18', 0.0, 78.0),\n",
       " ('USC00519397', '2011-11-19', 0.0, 76.0),\n",
       " ('USC00519397', '2011-11-20', 0.0, 75.0),\n",
       " ('USC00519397', '2011-11-21', 0.01, 76.0),\n",
       " ('USC00519397', '2011-11-22', 0.02, 73.0),\n",
       " ('USC00519397', '2011-11-23', 0.01, 75.0),\n",
       " ('USC00519397', '2011-11-24', 0.0, 73.0),\n",
       " ('USC00519397', '2011-11-25', 0.01, 70.0),\n",
       " ('USC00519397', '2011-11-26', 0.02, 75.0),\n",
       " ('USC00519397', '2011-11-27', 0.07, 73.0),\n",
       " ('USC00519397', '2011-11-28', 0.0, 72.0),\n",
       " ('USC00519397', '2011-11-29', 0.0, 72.0),\n",
       " ('USC00519397', '2011-11-30', 0.02, 66.0),\n",
       " ('USC00519397', '2011-12-01', 0.03, 69.0),\n",
       " ('USC00519397', '2011-12-02', 0.08, 68.0),\n",
       " ('USC00519397', '2011-12-03', 0.0, 73.0),\n",
       " ('USC00519397', '2011-12-04', 0.0, 74.0),\n",
       " ('USC00519397', '2011-12-05', 0.0, 73.0),\n",
       " ('USC00519397', '2011-12-06', 0.0, 73.0),\n",
       " ('USC00519397', '2011-12-07', 0.0, 73.0),\n",
       " ('USC00519397', '2011-12-08', 0.0, 73.0),\n",
       " ('USC00519397', '2011-12-09', 0.13, 71.0),\n",
       " ('USC00519397', '2011-12-10', 0.07, 73.0),\n",
       " ('USC00519397', '2011-12-11', 0.07, 73.0),\n",
       " ('USC00519397', '2011-12-12', 0.08, 77.0),\n",
       " ('USC00519397', '2011-12-13', 0.4, 72.0),\n",
       " ('USC00519397', '2011-12-14', 0.7, 71.0),\n",
       " ('USC00519397', '2011-12-15', 0.0, 73.0),\n",
       " ('USC00519397', '2011-12-16', 0.01, 70.0),\n",
       " ('USC00519397', '2011-12-17', 0.07, 73.0),\n",
       " ('USC00519397', '2011-12-18', 0.02, 69.0),\n",
       " ('USC00519397', '2011-12-19', 0.15, 74.0),\n",
       " ('USC00519397', '2011-12-20', 0.02, 72.0),\n",
       " ('USC00519397', '2011-12-21', 0.18, 71.0),\n",
       " ('USC00519397', '2011-12-22', 0.03, 72.0),\n",
       " ('USC00519397', '2011-12-23', 0.04, 72.0),\n",
       " ('USC00519397', '2011-12-24', 0.1, 70.0),\n",
       " ('USC00519397', '2011-12-25', 0.03, 73.0),\n",
       " ('USC00519397', '2011-12-26', 0.0, 73.0),\n",
       " ('USC00519397', '2011-12-27', 0.0, 72.0),\n",
       " ('USC00519397', '2011-12-28', 0.0, 73.0),\n",
       " ('USC00519397', '2011-12-29', 0.0, 73.0),\n",
       " ('USC00519397', '2011-12-30', 0.0, 72.0),\n",
       " ('USC00519397', '2011-12-31', 0.01, 63.0),\n",
       " ('USC00519397', '2012-01-01', 0.0, 63.0),\n",
       " ('USC00519397', '2012-01-02', 0.0, 66.0),\n",
       " ('USC00519397', '2012-01-03', 0.0, 66.0),\n",
       " ('USC00519397', '2012-01-04', 0.0, 74.0),\n",
       " ('USC00519397', '2012-01-06', 0.0, 71.0),\n",
       " ('USC00519397', '2012-01-07', 0.0, 65.0),\n",
       " ('USC00519397', '2012-01-08', 0.0, 61.0),\n",
       " ('USC00519397', '2012-01-10', 0.0, 71.0),\n",
       " ('USC00519397', '2012-01-11', 0.0, 65.0),\n",
       " ('USC00519397', '2012-01-12', 0.0, 66.0),\n",
       " ('USC00519397', '2012-01-14', 0.0, 61.0),\n",
       " ('USC00519397', '2012-01-15', 0.0, 74.0),\n",
       " ('USC00519397', '2012-01-16', 0.04, 75.0),\n",
       " ('USC00519397', '2012-01-17', 0.0, 75.0),\n",
       " ('USC00519397', '2012-01-18', 0.0, 75.0),\n",
       " ('USC00519397', '2012-01-19', 0.02, 68.0),\n",
       " ('USC00519397', '2012-01-20', 0.0, 73.0),\n",
       " ('USC00519397', '2012-01-21', 0.0, 74.0),\n",
       " ('USC00519397', '2012-01-22', 0.0, 74.0),\n",
       " ('USC00519397', '2012-01-23', 0.0, 67.0),\n",
       " ('USC00519397', '2012-01-24', 0.0, 66.0),\n",
       " ('USC00519397', '2012-01-25', 0.0, 69.0),\n",
       " ('USC00519397', '2012-01-26', 0.0, 74.0),\n",
       " ('USC00519397', '2012-01-27', 0.04, 68.0),\n",
       " ('USC00519397', '2012-01-28', 0.03, 72.0),\n",
       " ('USC00519397', '2012-01-29', 1.03, 72.0),\n",
       " ('USC00519397', '2012-01-30', 0.01, 71.0),\n",
       " ('USC00519397', '2012-01-31', 0.0, 71.0),\n",
       " ('USC00519397', '2012-02-01', 0.0, 66.0),\n",
       " ('USC00519397', '2012-02-02', 0.0, 72.0),\n",
       " ('USC00519397', '2012-02-03', 0.0, 63.0),\n",
       " ('USC00519397', '2012-02-04', 0.0, 65.0),\n",
       " ('USC00519397', '2012-02-05', 0.0, 69.0),\n",
       " ('USC00519397', '2012-02-06', 0.0, 71.0),\n",
       " ('USC00519397', '2012-02-07', 0.37, 71.0),\n",
       " ('USC00519397', '2012-02-08', 0.28, 65.0),\n",
       " ('USC00519397', '2012-02-09', 0.01, 61.0),\n",
       " ('USC00519397', '2012-02-10', 0.0, 71.0),\n",
       " ('USC00519397', '2012-02-11', 0.0, 72.0),\n",
       " ('USC00519397', '2012-02-12', 0.0, 72.0),\n",
       " ('USC00519397', '2012-02-13', 0.04, 72.0),\n",
       " ('USC00519397', '2012-02-14', 0.01, 65.0),\n",
       " ('USC00519397', '2012-02-15', 0.0, 66.0),\n",
       " ('USC00519397', '2012-02-16', 0.0, 73.0),\n",
       " ('USC00519397', '2012-02-17', 0.0, 73.0),\n",
       " ('USC00519397', '2012-02-18', 0.04, 71.0),\n",
       " ('USC00519397', '2012-02-19', 0.01, 72.0),\n",
       " ('USC00519397', '2012-02-20', 0.0, 73.0),\n",
       " ('USC00519397', '2012-02-21', 0.0, 72.0),\n",
       " ('USC00519397', '2012-02-22', 0.0, 73.0),\n",
       " ('USC00519397', '2012-02-23', 0.0, 77.0),\n",
       " ('USC00519397', '2012-02-24', 0.0, 67.0),\n",
       " ('USC00519397', '2012-02-25', 0.0, 69.0),\n",
       " ('USC00519397', '2012-02-26', 0.05, 73.0),\n",
       " ('USC00519397', '2012-02-27', 0.06, 72.0),\n",
       " ('USC00519397', '2012-02-28', 0.0, 73.0),\n",
       " ('USC00519397', '2012-02-29', 0.0, 74.0),\n",
       " ('USC00519397', '2012-03-01', 0.06, 73.0),\n",
       " ('USC00519397', '2012-03-02', 0.0, 67.0),\n",
       " ('USC00519397', '2012-03-03', 0.03, 71.0),\n",
       " ('USC00519397', '2012-03-04', 0.01, 72.0),\n",
       " ('USC00519397', '2012-03-05', 1.08, 67.0),\n",
       " ('USC00519397', '2012-03-06', 4.0, 69.0),\n",
       " ('USC00519397', '2012-03-07', 2.42, 67.0),\n",
       " ('USC00519397', '2012-03-08', 0.02, 69.0),\n",
       " ('USC00519397', '2012-03-09', 0.19, 66.0),\n",
       " ('USC00519397', '2012-03-10', 0.06, 73.0),\n",
       " ('USC00519397', '2012-03-11', 0.0, 74.0),\n",
       " ('USC00519397', '2012-03-12', 0.03, 71.0),\n",
       " ('USC00519397', '2012-03-13', 0.0, 72.0),\n",
       " ('USC00519397', '2012-03-14', 0.0, 73.0),\n",
       " ('USC00519397', '2012-03-15', 0.0, 71.0),\n",
       " ('USC00519397', '2012-03-16', 0.05, 72.0),\n",
       " ('USC00519397', '2012-03-17', 0.0, 73.0),\n",
       " ('USC00519397', '2012-03-18', 0.0, 72.0),\n",
       " ('USC00519397', '2012-03-19', 0.0, 73.0),\n",
       " ('USC00519397', '2012-03-20', 0.0, 69.0),\n",
       " ('USC00519397', '2012-03-21', 0.0, 73.0),\n",
       " ('USC00519397', '2012-03-22', 0.03, 74.0),\n",
       " ('USC00519397', '2012-03-23', 0.01, 72.0),\n",
       " ('USC00519397', '2012-03-24', 0.0, 74.0),\n",
       " ('USC00519397', '2012-03-25', 0.0, 74.0),\n",
       " ('USC00519397', '2012-03-26', 0.11, 72.0),\n",
       " ('USC00519397', '2012-03-27', 0.03, 70.0),\n",
       " ('USC00519397', '2012-03-28', 0.02, 71.0),\n",
       " ('USC00519397', '2012-03-29', 0.0, 72.0),\n",
       " ('USC00519397', '2012-03-30', 0.0, 73.0),\n",
       " ('USC00519397', '2012-03-31', 0.0, 74.0),\n",
       " ('USC00519397', '2012-04-01', 0.0, 73.0),\n",
       " ('USC00519397', '2012-04-02', 0.0, 74.0),\n",
       " ('USC00519397', '2012-04-03', 0.0, 75.0),\n",
       " ('USC00519397', '2012-04-04', 0.0, 74.0),\n",
       " ('USC00519397', '2012-04-05', 0.19, 74.0),\n",
       " ('USC00519397', '2012-04-06', 0.0, 74.0),\n",
       " ('USC00519397', '2012-04-07', 0.03, 74.0),\n",
       " ('USC00519397', '2012-04-08', 0.0, 74.0),\n",
       " ('USC00519397', '2012-04-09', 0.07, 72.0),\n",
       " ('USC00519397', '2012-04-10', 0.05, 69.0),\n",
       " ('USC00519397', '2012-04-11', 0.06, 71.0),\n",
       " ('USC00519397', '2012-04-12', 0.0, 70.0),\n",
       " ('USC00519397', '2012-04-13', 0.03, 71.0),\n",
       " ('USC00519397', '2012-04-14', 0.0, 70.0),\n",
       " ('USC00519397', '2012-04-15', 0.01, 75.0),\n",
       " ('USC00519397', '2012-04-16', 0.01, 75.0),\n",
       " ('USC00519397', '2012-04-17', 0.0, 75.0),\n",
       " ('USC00519397', '2012-04-18', 0.0, 75.0),\n",
       " ('USC00519397', '2012-04-19', 0.0, 75.0),\n",
       " ('USC00519397', '2012-04-20', 0.0, 75.0),\n",
       " ('USC00519397', '2012-04-21', 0.01, 74.0),\n",
       " ('USC00519397', '2012-04-22', 0.04, 69.0),\n",
       " ('USC00519397', '2012-04-23', 0.03, 73.0),\n",
       " ('USC00519397', '2012-04-24', 0.0, 73.0),\n",
       " ('USC00519397', '2012-04-25', 0.0, 75.0),\n",
       " ('USC00519397', '2012-04-26', 0.0, 74.0),\n",
       " ('USC00519397', '2012-04-27', 0.0, 75.0),\n",
       " ('USC00519397', '2012-04-28', 0.0, 76.0),\n",
       " ('USC00519397', '2012-04-29', 0.0, 75.0),\n",
       " ('USC00519397', '2012-04-30', 0.0, 75.0),\n",
       " ('USC00519397', '2012-05-01', 0.0, 75.0),\n",
       " ('USC00519397', '2012-05-02', 0.0, 75.0),\n",
       " ('USC00519397', '2012-05-03', 0.0, 75.0),\n",
       " ('USC00519397', '2012-05-04', 0.0, 75.0),\n",
       " ('USC00519397', '2012-05-05', 0.04, 74.0),\n",
       " ('USC00519397', '2012-05-06', 0.0, 75.0),\n",
       " ('USC00519397', '2012-05-07', 0.0, 74.0),\n",
       " ('USC00519397', '2012-05-08', 0.0, 75.0),\n",
       " ('USC00519397', '2012-05-09', 0.0, 74.0),\n",
       " ('USC00519397', '2012-05-10', 0.0, 74.0),\n",
       " ('USC00519397', '2012-05-11', 0.0, 75.0),\n",
       " ('USC00519397', '2012-05-12', 0.0, 75.0),\n",
       " ('USC00519397', '2012-05-13', 0.0, 72.0),\n",
       " ('USC00519397', '2012-05-14', 0.0, 74.0),\n",
       " ('USC00519397', '2012-05-15', 0.0, 74.0),\n",
       " ('USC00519397', '2012-05-16', 0.0, 75.0),\n",
       " ('USC00519397', '2012-05-17', 0.0, 76.0),\n",
       " ('USC00519397', '2012-05-18', 0.0, 77.0),\n",
       " ('USC00519397', '2012-05-19', 0.0, 77.0),\n",
       " ('USC00519397', '2012-05-20', 0.0, 77.0),\n",
       " ('USC00519397', '2012-05-21', 0.0, 76.0),\n",
       " ('USC00519397', '2012-05-22', 0.0, 77.0),\n",
       " ('USC00519397', '2012-05-23', 0.0, 76.0),\n",
       " ('USC00519397', '2012-05-24', 0.0, 78.0),\n",
       " ('USC00519397', '2012-05-25', 0.0, 77.0),\n",
       " ('USC00519397', '2012-05-26', 0.0, 76.0),\n",
       " ('USC00519397', '2012-05-27', 0.0, 76.0),\n",
       " ('USC00519397', '2012-05-28', 0.0, 77.0),\n",
       " ('USC00519397', '2012-05-29', 0.0, 76.0),\n",
       " ('USC00519397', '2012-05-30', 0.0, 76.0),\n",
       " ('USC00519397', '2012-05-31', 0.01, 73.0),\n",
       " ('USC00519397', '2012-06-01', 0.02, 76.0),\n",
       " ('USC00519397', '2012-06-02', 0.02, 76.0),\n",
       " ('USC00519397', '2012-06-03', 0.0, 75.0),\n",
       " ('USC00519397', '2012-06-04', 0.0, 77.0),\n",
       " ('USC00519397', '2012-06-05', 0.0, 77.0),\n",
       " ('USC00519397', '2012-06-06', 0.0, 76.0),\n",
       " ('USC00519397', '2012-06-07', 0.0, 78.0),\n",
       " ('USC00519397', '2012-06-08', None, 77.0),\n",
       " ('USC00519397', '2012-06-09', None, 76.0),\n",
       " ('USC00519397', '2012-06-10', 0.0, 77.0),\n",
       " ('USC00519397', '2012-06-11', 0.0, 76.0),\n",
       " ('USC00519397', '2012-06-12', 0.0, 76.0),\n",
       " ('USC00519397', '2012-06-13', 0.0, 77.0),\n",
       " ('USC00519397', '2012-06-14', 0.0, 77.0),\n",
       " ('USC00519397', '2012-06-15', 0.0, 78.0),\n",
       " ('USC00519397', '2012-06-16', 0.0, 77.0),\n",
       " ('USC00519397', '2012-06-17', 0.0, 77.0),\n",
       " ('USC00519397', '2012-06-18', 0.0, 77.0),\n",
       " ('USC00519397', '2012-06-19', 0.0, 76.0),\n",
       " ('USC00519397', '2012-06-20', 0.0, 75.0),\n",
       " ('USC00519397', '2012-06-21', 0.0, 76.0),\n",
       " ('USC00519397', '2012-06-22', 0.0, 76.0),\n",
       " ('USC00519397', '2012-06-23', 0.0, 77.0),\n",
       " ('USC00519397', '2012-06-24', 0.0, 76.0),\n",
       " ('USC00519397', '2012-06-25', 0.03, 73.0),\n",
       " ('USC00519397', '2012-06-26', 0.15, 73.0),\n",
       " ('USC00519397', '2012-06-27', 0.01, 75.0),\n",
       " ('USC00519397', '2012-06-28', 0.0, 77.0),\n",
       " ('USC00519397', '2012-06-29', 0.05, 76.0),\n",
       " ('USC00519397', '2012-06-30', 0.0, 77.0),\n",
       " ('USC00519397', '2012-07-01', 0.0, 76.0),\n",
       " ('USC00519397', '2012-07-02', 0.0, 77.0),\n",
       " ('USC00519397', '2012-07-03', 0.04, 74.0),\n",
       " ('USC00519397', '2012-07-04', 0.01, 77.0),\n",
       " ('USC00519397', '2012-07-05', 0.03, 77.0),\n",
       " ('USC00519397', '2012-07-06', 0.0, 78.0),\n",
       " ('USC00519397', '2012-07-07', 0.04, 76.0),\n",
       " ('USC00519397', '2012-07-08', 0.0, 77.0),\n",
       " ('USC00519397', '2012-07-09', None, 77.0),\n",
       " ('USC00519397', '2012-07-10', 0.0, 76.0),\n",
       " ('USC00519397', '2012-07-11', 0.0, 76.0),\n",
       " ('USC00519397', '2012-07-12', 0.0, 76.0),\n",
       " ('USC00519397', '2012-07-13', 0.0, 77.0),\n",
       " ('USC00519397', '2012-07-14', 0.0, 78.0),\n",
       " ('USC00519397', '2012-07-15', 0.0, 77.0),\n",
       " ('USC00519397', '2012-07-16', 0.01, 78.0),\n",
       " ('USC00519397', '2012-07-17', 0.0, 78.0),\n",
       " ('USC00519397', '2012-07-18', 0.0, 78.0),\n",
       " ('USC00519397', '2012-07-19', 0.0, 75.0),\n",
       " ('USC00519397', '2012-07-20', 0.0, 77.0),\n",
       " ('USC00519397', '2012-07-21', 0.0, 76.0),\n",
       " ('USC00519397', '2012-07-22', 0.0, 76.0),\n",
       " ('USC00519397', '2012-07-23', 0.0, 79.0),\n",
       " ('USC00519397', '2012-07-24', 0.0, 77.0),\n",
       " ('USC00519397', '2012-07-25', 0.0, 77.0),\n",
       " ('USC00519397', '2012-07-26', 0.02, 77.0),\n",
       " ('USC00519397', '2012-07-27', 0.0, 77.0),\n",
       " ('USC00519397', '2012-07-28', 0.0, 77.0),\n",
       " ('USC00519397', '2012-07-29', 0.01, 73.0),\n",
       " ('USC00519397', '2012-07-30', 0.01, 78.0),\n",
       " ('USC00519397', '2012-07-31', 0.0, 78.0),\n",
       " ('USC00519397', '2012-08-01', 0.0, 79.0),\n",
       " ('USC00519397', '2012-08-02', 0.0, 78.0),\n",
       " ('USC00519397', '2012-08-03', 0.0, 78.0),\n",
       " ('USC00519397', '2012-08-04', 0.0, 78.0),\n",
       " ('USC00519397', '2012-08-05', 0.0, 78.0),\n",
       " ('USC00519397', '2012-08-06', 0.0, 77.0),\n",
       " ('USC00519397', '2012-08-07', 0.0, 77.0),\n",
       " ('USC00519397', '2012-08-08', 0.02, 78.0),\n",
       " ('USC00519397', '2012-08-09', 0.0, 78.0),\n",
       " ('USC00519397', '2012-08-10', 0.0, 76.0),\n",
       " ('USC00519397', '2012-08-11', 0.0, 75.0),\n",
       " ('USC00519397', '2012-08-12', 0.0, 78.0),\n",
       " ('USC00519397', '2012-08-13', 0.0, 78.0),\n",
       " ('USC00519397', '2012-08-14', 0.0, 77.0),\n",
       " ('USC00519397', '2012-08-15', 0.01, 79.0),\n",
       " ('USC00519397', '2012-08-16', 0.0, 78.0),\n",
       " ('USC00519397', '2012-08-17', 0.0, 78.0),\n",
       " ('USC00519397', '2012-08-18', None, 77.0),\n",
       " ('USC00519397', '2012-08-19', None, 76.0),\n",
       " ('USC00519397', '2012-08-20', 0.0, 79.0),\n",
       " ('USC00519397', '2012-08-21', 0.0, 77.0),\n",
       " ('USC00519397', '2012-08-22', 0.03, 77.0),\n",
       " ('USC00519397', '2012-08-23', 0.0, 78.0),\n",
       " ('USC00519397', '2012-08-24', 0.0, 78.0),\n",
       " ('USC00519397', '2012-08-25', 0.0, 78.0),\n",
       " ('USC00519397', '2012-08-26', 0.0, 78.0),\n",
       " ('USC00519397', '2012-08-27', 0.02, 73.0),\n",
       " ('USC00519397', '2012-08-28', 1.0, 75.0),\n",
       " ('USC00519397', '2012-08-29', 0.02, 78.0),\n",
       " ('USC00519397', '2012-08-30', 0.04, 78.0),\n",
       " ('USC00519397', '2012-08-31', 0.0, 78.0),\n",
       " ('USC00519397', '2012-09-01', 0.01, 77.0),\n",
       " ('USC00519397', '2012-09-02', 0.04, 76.0),\n",
       " ('USC00519397', '2012-09-03', 0.06, 77.0),\n",
       " ('USC00519397', '2012-09-04', 0.0, 77.0),\n",
       " ('USC00519397', '2012-09-05', 0.01, 75.0),\n",
       " ('USC00519397', '2012-09-06', 0.04, 77.0),\n",
       " ('USC00519397', '2012-09-07', 0.0, 75.0),\n",
       " ('USC00519397', '2012-09-08', 0.06, 78.0),\n",
       " ('USC00519397', '2012-09-09', 0.0, 76.0),\n",
       " ('USC00519397', '2012-09-10', 0.0, 77.0),\n",
       " ('USC00519397', '2012-09-11', 0.0, 77.0),\n",
       " ('USC00519397', '2012-09-12', 0.02, 76.0),\n",
       " ('USC00519397', '2012-09-13', 0.05, 76.0),\n",
       " ('USC00519397', '2012-09-14', 0.04, 78.0),\n",
       " ('USC00519397', '2012-09-15', 0.0, 78.0),\n",
       " ('USC00519397', '2012-09-16', 0.0, 77.0),\n",
       " ('USC00519397', '2012-09-17', 0.0, 78.0),\n",
       " ('USC00519397', '2012-09-18', 0.06, 71.0),\n",
       " ('USC00519397', '2012-09-19', 0.0, 74.0),\n",
       " ('USC00519397', '2012-09-20', 0.07, 76.0),\n",
       " ('USC00519397', '2012-09-21', 0.08, 77.0),\n",
       " ('USC00519397', '2012-09-22', 0.0, 77.0),\n",
       " ('USC00519397', '2012-09-23', 0.04, 76.0),\n",
       " ('USC00519397', '2012-09-24', 0.0, 77.0),\n",
       " ('USC00519397', '2012-09-25', 0.0, 76.0),\n",
       " ('USC00519397', '2012-09-26', 0.01, 76.0),\n",
       " ('USC00519397', '2012-09-27', 0.02, 78.0),\n",
       " ('USC00519397', '2012-09-28', 0.0, 78.0),\n",
       " ('USC00519397', '2012-09-29', 0.0, 77.0),\n",
       " ('USC00519397', '2012-09-30', 0.02, 75.0),\n",
       " ('USC00519397', '2012-10-01', 0.0, 78.0),\n",
       " ('USC00519397', '2012-10-02', 0.0, 74.0),\n",
       " ('USC00519397', '2012-10-03', 0.0, 75.0),\n",
       " ('USC00519397', '2012-10-04', 0.0, 77.0),\n",
       " ('USC00519397', '2012-10-05', 0.0, 73.0),\n",
       " ('USC00519397', '2012-10-06', 0.03, 73.0),\n",
       " ('USC00519397', '2012-10-07', 0.0, 76.0),\n",
       " ('USC00519397', '2012-10-08', 0.0, 78.0),\n",
       " ('USC00519397', '2012-10-09', 0.0, 75.0),\n",
       " ('USC00519397', '2012-10-10', 0.0, 75.0),\n",
       " ('USC00519397', '2012-10-11', 0.0, 80.0),\n",
       " ('USC00519397', '2012-10-12', 0.0, 78.0),\n",
       " ('USC00519397', '2012-10-13', 0.0, 79.0),\n",
       " ('USC00519397', '2012-10-14', 0.0, 78.0),\n",
       " ('USC00519397', '2012-10-15', 0.02, 78.0),\n",
       " ('USC00519397', '2012-10-16', 0.0, 77.0),\n",
       " ('USC00519397', '2012-10-17', 0.0, 72.0),\n",
       " ('USC00519397', '2012-10-18', 0.0, 75.0),\n",
       " ('USC00519397', '2012-10-19', 0.0, 77.0),\n",
       " ('USC00519397', '2012-10-20', 0.0, 78.0),\n",
       " ('USC00519397', '2012-10-21', 0.0, 77.0),\n",
       " ('USC00519397', '2012-10-22', 0.0, 76.0),\n",
       " ('USC00519397', '2012-10-23', 0.0, 78.0),\n",
       " ('USC00519397', '2012-10-24', 0.0, 78.0),\n",
       " ('USC00519397', '2012-10-25', 0.0, 76.0),\n",
       " ('USC00519397', '2012-10-26', 0.0, 76.0),\n",
       " ('USC00519397', '2012-10-27', 0.0, 74.0),\n",
       " ('USC00519397', '2012-10-28', 0.02, 77.0),\n",
       " ('USC00519397', '2012-10-29', 0.04, 77.0),\n",
       " ('USC00519397', '2012-10-30', 0.0, 76.0),\n",
       " ('USC00519397', '2012-10-31', 0.02, 78.0),\n",
       " ('USC00519397', '2012-11-01', 0.0, 71.0),\n",
       " ('USC00519397', '2012-11-02', 0.0, 70.0),\n",
       " ('USC00519397', '2012-11-03', 0.0, 74.0),\n",
       " ('USC00519397', '2012-11-04', 0.0, 71.0),\n",
       " ('USC00519397', '2012-11-05', 0.0, 69.0),\n",
       " ('USC00519397', '2012-11-06', 0.0, 76.0),\n",
       " ('USC00519397', '2012-11-07', 0.0, 77.0),\n",
       " ('USC00519397', '2012-11-08', 0.0, 77.0),\n",
       " ('USC00519397', '2012-11-09', 0.03, 76.0),\n",
       " ('USC00519397', '2012-11-10', 0.0, 75.0),\n",
       " ('USC00519397', '2012-11-11', 0.0, 76.0),\n",
       " ('USC00519397', '2012-11-12', 0.0, 77.0),\n",
       " ('USC00519397', '2012-11-13', 0.06, 77.0),\n",
       " ('USC00519397', '2012-11-14', 0.0, 77.0),\n",
       " ('USC00519397', '2012-11-15', 0.08, 75.0),\n",
       " ('USC00519397', '2012-11-16', 0.03, 73.0),\n",
       " ('USC00519397', '2012-11-17', 0.01, 74.0),\n",
       " ('USC00519397', '2012-11-18', 0.03, 76.0),\n",
       " ('USC00519397', '2012-11-19', 0.0, 75.0),\n",
       " ('USC00519397', '2012-11-20', 0.0, 75.0),\n",
       " ('USC00519397', '2012-11-21', 0.0, 71.0),\n",
       " ('USC00519397', '2012-11-22', 0.0, 69.0),\n",
       " ('USC00519397', '2012-11-23', 0.0, 71.0),\n",
       " ('USC00519397', '2012-11-24', 0.02, 69.0),\n",
       " ...]"
      ]
     },
     "execution_count": 48,
     "metadata": {},
     "output_type": "execute_result"
    }
   ],
   "source": [
    "# What are the most active stations? (i.e. what stations have the most rows)?\n",
    "# List the stations and the counts in descending order.\n",
    "measurements_cq = session.query(Measurements.station, Measurements.date, Measurements.prcp, Measurements.tobs).all()\n",
    "measurements_cq"
   ]
  },
  {
   "cell_type": "code",
   "execution_count": 49,
   "metadata": {},
   "outputs": [
    {
     "name": "stdout",
     "output_type": "stream",
     "text": [
      "The Hawaiian station with more observations is USC00519281 with 2772 observations\n"
     ]
    }
   ],
   "source": [
    "stations_dict = dict()\n",
    "value_comp = 0\n",
    "for result in measurements_cq:\n",
    "    #Extract the name of the station\n",
    "    name_station = result[0]\n",
    "    #Make a query with a filter\n",
    "    number_stations = session.query(Measurements.station).filter(Measurements.station == name_station).count()\n",
    "    if number_stations > value_comp :\n",
    "        station = name_station\n",
    "        observations = number_stations\n",
    "        value_comp = number_stations\n",
    "        \n",
    "print(f\"The Hawaiian station with more observations is {station} with {observations} observations\")"
   ]
  },
  {
   "cell_type": "code",
   "execution_count": 50,
   "metadata": {},
   "outputs": [
    {
     "data": {
      "text/plain": [
       "('USC00519281', 'WAIHEE 837.5, HI US')"
      ]
     },
     "execution_count": 50,
     "metadata": {},
     "output_type": "execute_result"
    }
   ],
   "source": [
    "stations_name = session.query(Station.station, Station.name).filter(Station.station == station).first()\n",
    "stations_name"
   ]
  },
  {
   "cell_type": "code",
   "execution_count": 51,
   "metadata": {},
   "outputs": [
    {
     "name": "stdout",
     "output_type": "stream",
     "text": [
      "The station USC00519281 registered a minimum temperature of 54.0F, a maximum temperature of 85.0F,\n",
      "and an average temperature of 71.66F.\n"
     ]
    }
   ],
   "source": [
    "# Using the station id from the previous query, calculate the lowest temperature recorded, \n",
    "# highest temperature recorded, and average temperature of the most active station?\n",
    "temp_query = session.query(func.min(Measurements.tobs).filter(Measurements.station == station).label(\"min_temp\"), \n",
    "                            func.max(Measurements.tobs).filter(Measurements.station == station).label(\"max_temp\"),\n",
    "                            func.avg(Measurements.tobs).filter(Measurements.station == station).label(\"avg_temp\"))\n",
    "\n",
    "\n",
    "res = temp_query.one()\n",
    "max_temp = res.max_temp\n",
    "min_temp = res.min_temp\n",
    "avg_temp = res.avg_temp\n",
    "\n",
    "print(f\"The station {station} registered a minimum temperature of {min_temp}F, a maximum temperature of {max_temp}F,\")\n",
    "print(f\"and an average temperature of {round(avg_temp, 2)}F.\")\n",
    "                "
   ]
  },
  {
   "cell_type": "code",
   "execution_count": 53,
   "metadata": {},
   "outputs": [
    {
     "data": {
      "text/plain": [
       "array([[<matplotlib.axes._subplots.AxesSubplot object at 0x000001DF00F25CC8>]],\n",
       "      dtype=object)"
      ]
     },
     "execution_count": 53,
     "metadata": {},
     "output_type": "execute_result"
    },
    {
     "data": {
      "image/png": "[encoded data removed]",
      "text/plain": [
       "<Figure size 432x288 with 1 Axes>"
      ]
     },
     "metadata": {
      "needs_background": "light"
     },
     "output_type": "display_data"
    }
   ],
   "source": [
    "# Choose the station with the highest number of temperature observations.\n",
    "# Query the last 12 months of temperature observation data for this station and plot the results as a histogram\n",
    "temp_query2 = session.query(Measurements.date, Measurements.tobs).filter(Measurements.station== station). \\\n",
    "                                 filter(Measurements.date > year_ago_str).all()\n",
    "\n",
    "temp_station = pd.DataFrame(temp_query2, columns=[\"Date\", \"tobs\"])\n",
    "\n",
    "temp_station.hist(column='tobs', bins = 12)"
   ]
  },
  {
   "cell_type": "markdown",
   "metadata": {},
   "source": [
    "About the temperature, it is observed in the histogram, that temperature is almost notmally distributed and in average is around the 75 °F."
   ]
  },
  {
   "cell_type": "markdown",
   "metadata": {},
   "source": [
    "# Bonus\n",
    "pending..."
   ]
  },
  {
   "cell_type": "markdown",
   "metadata": {},
   "source": [
    "## Bonus Challenge Assignment"
   ]
  },
  {
   "cell_type": "code",
   "execution_count": null,
   "metadata": {},
   "outputs": [],
   "source": [
    "# This function called `calc_temps` will accept start date and end date in the format '%Y-%m-%d' \n",
    "# and return the minimum, average, and maximum temperatures for that range of dates\n",
    "def calc_temps(start_date, end_date):\n",
    "    \"\"\"TMIN, TAVG, and TMAX for a list of dates.\n",
    "    \n",
    "    Args:\n",
    "        start_date (string): A date string in the format %Y-%m-%d\n",
    "        end_date (string): A date string in the format %Y-%m-%d\n",
    "        \n",
    "    Returns:\n",
    "        TMIN, TAVE, and TMAX\n",
    "    \"\"\"\n",
    "    \n",
    "    return session.query(func.min(Measurement.tobs), func.avg(Measurement.tobs), func.max(Measurement.tobs)).\\\n",
    "        filter(Measurement.date >= start_date).filter(Measurement.date <= end_date).all()\n",
    "\n",
    "# function usage example\n",
    "print(calc_temps('2012-02-28', '2012-03-05'))"
   ]
  },
  {
   "cell_type": "code",
   "execution_count": null,
   "metadata": {},
   "outputs": [],
   "source": [
    "# Use your previous function `calc_temps` to calculate the tmin, tavg, and tmax \n",
    "# for your trip using the previous year's data for those same dates.\n"
   ]
  },
  {
   "cell_type": "code",
   "execution_count": null,
   "metadata": {},
   "outputs": [],
   "source": [
    "# Plot the results from your previous query as a bar chart. \n",
    "# Use \"Trip Avg Temp\" as your Title\n",
    "# Use the average temperature for the y value\n",
    "# Use the peak-to-peak (tmax-tmin) value as the y error bar (yerr)\n"
   ]
  },
  {
   "cell_type": "code",
   "execution_count": null,
   "metadata": {},
   "outputs": [],
   "source": [
    "# Calculate the total amount of rainfall per weather station for your trip dates using the previous year's matching dates.\n",
    "# Sort this in descending order by precipitation amount and list the station, name, latitude, longitude, and elevation\n",
    "\n"
   ]
  },
  {
   "cell_type": "code",
   "execution_count": null,
   "metadata": {},
   "outputs": [],
   "source": [
    "# Create a query that will calculate the daily normals \n",
    "# (i.e. the averages for tmin, tmax, and tavg for all historic data matching a specific month and day)\n",
    "\n",
    "def daily_normals(date):\n",
    "    \"\"\"Daily Normals.\n",
    "    \n",
    "    Args:\n",
    "        date (str): A date string in the format '%m-%d'\n",
    "        \n",
    "    Returns:\n",
    "        A list of tuples containing the daily normals, tmin, tavg, and tmax\n",
    "    \n",
    "    \"\"\"\n",
    "    \n",
    "    sel = [func.min(Measurement.tobs), func.avg(Measurement.tobs), func.max(Measurement.tobs)]\n",
    "    return session.query(*sel).filter(func.strftime(\"%m-%d\", Measurement.date) == date).all()\n",
    "    \n",
    "daily_normals(\"01-01\")"
   ]
  },
  {
   "cell_type": "code",
   "execution_count": null,
   "metadata": {},
   "outputs": [],
   "source": [
    "# calculate the daily normals for your trip\n",
    "# push each tuple of calculations into a list called `normals`\n",
    "\n",
    "# Set the start and end date of the trip\n",
    "\n",
    "# Use the start and end date to create a range of dates\n",
    "\n",
    "# Stip off the year and save a list of %m-%d strings\n",
    "\n",
    "# Loop through the list of %m-%d strings and calculate the normals for each date\n"
   ]
  },
  {
   "cell_type": "code",
   "execution_count": null,
   "metadata": {},
   "outputs": [],
   "source": [
    "# Load the previous query results into a Pandas DataFrame and add the `trip_dates` range as the `date` index\n"
   ]
  },
  {
   "cell_type": "code",
   "execution_count": null,
   "metadata": {},
   "outputs": [],
   "source": [
    "# Plot the daily normals as an area plot with `stacked=False`\n"
   ]
  }
 ],
 "metadata": {
  "kernel_info": {
   "name": "python3"
  },
  "kernelspec": {
   "display_name": "Python 3",
   "language": "python",
   "name": "python3"
  },
  "language_info": {
   "codemirror_mode": {
    "name": "ipython",
    "version": 3
   },
   "file_extension": ".py",
   "mimetype": "text/x-python",
   "name": "python",
   "nbconvert_exporter": "python",
   "pygments_lexer": "ipython3",
   "version": "3.7.4"
  },
  "nteract": {
   "version": "0.12.3"
  },
  "varInspector": {
   "cols": {
    "lenName": 16,
    "lenType": 16,
    "lenVar": 40
   },
   "kernels_config": {
    "python": {
     "delete_cmd_postfix": "",
     "delete_cmd_prefix": "del ",
     "library": "var_list.py",
     "varRefreshCmd": "print(var_dic_list())"
    },
    "r": {
     "delete_cmd_postfix": ") ",
     "delete_cmd_prefix": "rm(",
     "library": "var_list.r",
     "varRefreshCmd": "cat(var_dic_list()) "
    }
   },
   "types_to_exclude": [
    "module",
    "function",
    "builtin_function_or_method",
    "instance",
    "_Feature"
   ],
   "window_display": false
  }
 },
 "nbformat": 4,
 "nbformat_minor": 2
}
